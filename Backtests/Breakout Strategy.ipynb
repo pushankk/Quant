{
 "cells": [
  {
   "cell_type": "code",
   "execution_count": 1,
   "id": "d15c39f7",
   "metadata": {},
   "outputs": [],
   "source": [
    "import numpy as np\n",
    "import matplotlib.pyplot as plt\n",
    "import pandas as pd\n",
    "import yfinance as yf\n",
    "import datetime as dt\n",
    "import copy\n",
    "import time"
   ]
  },
  {
   "cell_type": "markdown",
   "id": "8ba1c060-cafa-4bfe-a01d-c743b1145075",
   "metadata": {},
   "source": [
    "## Utility Functions"
   ]
  },
  {
   "cell_type": "markdown",
   "id": "92f30a54-6f71-4d2a-89f8-d7869c858933",
   "metadata": {},
   "source": [
    "Since we will be using 5m data, so we'll have to tweak our CAGR and volatitility functions accordingly to take into account 5m intraday data, since they were originally made for daily data. We have assumed 252 trading days in a year and 78 5M candles in a single trading session."
   ]
  },
  {
   "cell_type": "code",
   "execution_count": 71,
   "id": "3214618b",
   "metadata": {},
   "outputs": [],
   "source": [
    "def ATR(DF,n):\n",
    "    \"function to calculate True Range and Average True Range\"\n",
    "    df = DF.copy()\n",
    "    df['H-L']=abs(df['High']-df['Low'])\n",
    "    df['H-PC']=abs(df['High']-df['Close'].shift(1))\n",
    "    df['L-PC']=abs(df['Low']-df['Close'].shift(1))\n",
    "    df['TR']=df[['H-L','H-PC','L-PC']].max(axis=1,skipna=False)\n",
    "    df['ATR'] = df['TR'].rolling(n).mean()\n",
    "    #df['ATR'] = df['TR'].ewm(span=n,adjust=False,min_periods=n).mean()\n",
    "    df2 = df.drop(['H-L','H-PC','L-PC'],axis=1)\n",
    "    return df2['ATR']\n",
    "\n",
    "def CAGR(DF):\n",
    "    \"function to calculate the Cumulative Annual Growth Rate of a trading strategy\"\n",
    "    df = DF.copy()\n",
    "    df[\"cum_return\"] = (1 + df[\"Return\"]).cumprod()\n",
    "    n = len(df)/(252*78)\n",
    "    CAGR = (df[\"cum_return\"].tolist()[-1])**(1/n) - 1\n",
    "    return CAGR\n",
    "\n",
    "def volatility(DF):\n",
    "    \"function to calculate annualized volatility of a trading strategy\"\n",
    "    df = DF.copy()\n",
    "    vol = df[\"Return\"].std() * np.sqrt(252*78)\n",
    "    return vol\n",
    "\n",
    "def sharpe(DF,rf):\n",
    "    \"function to calculate sharpe ratio ; rf is the risk free rate\"\n",
    "    df = DF.copy()\n",
    "    sr = (CAGR(df) - rf)/volatility(df)\n",
    "    return sr\n",
    "    \n",
    "\n",
    "def max_dd(DF):\n",
    "    \"function to calculate max drawdown\"\n",
    "    df = DF.copy()\n",
    "    df[\"cum_return\"] = (1 + df[\"Return\"]).cumprod()\n",
    "    df[\"cum_roll_max\"] = df[\"cum_return\"].cummax()\n",
    "    df[\"drawdown\"] = df[\"cum_roll_max\"] - df[\"cum_return\"]\n",
    "    df[\"drawdown_pct\"] = df[\"drawdown\"]/df[\"cum_roll_max\"]\n",
    "    max_dd = df[\"drawdown_pct\"].max()\n",
    "    return max_dd"
   ]
  },
  {
   "cell_type": "markdown",
   "id": "f0399f74-593e-4c4c-be1b-87ccea446803",
   "metadata": {},
   "source": [
    "## Getting Stock data\n",
    "We are mainly focusing on stocks which see a lot of day to day action, ie. mostly tech stocks which have high trading volumes daily."
   ]
  },
  {
   "cell_type": "code",
   "execution_count": 19,
   "id": "991adfcd-01a0-40d0-a416-6dd4cd745365",
   "metadata": {},
   "outputs": [
    {
     "name": "stderr",
     "output_type": "stream",
     "text": [
      "[*********************100%%**********************]  1 of 1 completed\n",
      "[*********************100%%**********************]  1 of 1 completed\n",
      "[*********************100%%**********************]  1 of 1 completed\n",
      "[*********************100%%**********************]  1 of 1 completed\n",
      "[*********************100%%**********************]  1 of 1 completed\n",
      "[*********************100%%**********************]  1 of 1 completed\n",
      "[*********************100%%**********************]  1 of 1 completed\n",
      "[*********************100%%**********************]  1 of 1 completed\n",
      "[*********************100%%**********************]  1 of 1 completed\n",
      "[*********************100%%**********************]  1 of 1 completed\n"
     ]
    }
   ],
   "source": [
    "tickers = [\"MSFT\", \"AAPL\", \"META\", \"AMZN\", \"INTC\", \"CSCO\", \"VZ\", \"IBM\", \"TSLA\", \"AMD\"]\n",
    "ohlc_intraday = {}  # Dictionary to store OHLC data for each stock\n",
    "\n",
    "# Define start and end dates for data retrieval\n",
    "end_date = dt.datetime.today()\n",
    "start_date = end_date - dt.timedelta(37)  # Fetch data for at least 36 days\n",
    "\n",
    "# Loop over tickers and retrieve intraday OHLC data\n",
    "for ticker in tickers:\n",
    "    ohlc_intraday[ticker] = yf.download(ticker, start=start_date, end=end_date, interval='5m')\n",
    "    ohlc_intraday[ticker].dropna(inplace=True, how=\"all\")\n",
    "\n",
    "# Adjust datetime index to UTC timezone for consistency\n",
    "for ticker in tickers:\n",
    "    ohlc_intraday[ticker].index = ohlc_intraday[ticker].index.tz_convert('UTC')"
   ]
  },
  {
   "cell_type": "markdown",
   "id": "373430d1-6a5a-4e88-9679-fedd0bc59226",
   "metadata": {},
   "source": [
    "## Backtesting\n",
    "The algorithm will be monitoring all the stocks candle by candle and if our criterias are met at a particular candle, the algorithm will place a buy/sell order along with a stop loss. We will be using candles closures above/below our levels to prevent fakeouts and getting trapped, as a candle closing above a certain support/resistance level gives more confidence of the trade playing out.\n",
    "\n",
    "#### Strategy Rules :\n",
    "1. Candle closures above the 20 period rolling max/min price.\n",
    "2. Volume breaching 1.5 times the rolling max volume of the previous candle.\n",
    "3. Generate a signal to go buy or sell and append to signal dictionary for the ticker.\n",
    "4. The trailing stop loss will be set to close price of the candle plus minus 20 period ATR. \n"
   ]
  },
  {
   "cell_type": "code",
   "execution_count": 26,
   "id": "9180dd59-0906-4915-86b1-5c3e67de54a8",
   "metadata": {},
   "outputs": [],
   "source": [
    "# Calculating ATR and rolling max and min price as well as rolling max volume for each stock and consolidating this info by stock in a separate dataframe\n",
    "ohlc_dict = copy.deepcopy(ohlc_intraday) # Creating a copy of our data so that we don't have to fetch it again\n",
    "tickers_signal = {}\n",
    "tickers_ret = {}\n",
    "for ticker in tickers:\n",
    "    ohlc_dict[ticker]['ATR'] = ATR(ohlc_dict[ticker],20)\n",
    "    ohlc_dict[ticker][\"Rolling_Max_P\"] = ohlc_dict[ticker]['High'].rolling(20).max()\n",
    "    ohlc_dict[ticker]['Rolling_Min_P'] = ohlc_dict[ticker]['Low'].rolling(20).min()\n",
    "    ohlc_dict[ticker]['Rolling_Max_Volume'] = ohlc_dict[ticker]['Volume'].rolling(20).max()\n",
    "    ohlc_dict[ticker].dropna(inplace = True)\n",
    "    tickers_signal[ticker] = \"\"\n",
    "    tickers_ret[ticker] = []"
   ]
  },
  {
   "cell_type": "code",
   "execution_count": 67,
   "id": "c593d0c4-3bef-4b0c-8d07-0de23c79b168",
   "metadata": {},
   "outputs": [
    {
     "name": "stderr",
     "output_type": "stream",
     "text": [
      "C:\\Users\\pusha\\AppData\\Local\\Temp\\ipykernel_2620\\2737804087.py:8: FutureWarning: Series.__getitem__ treating keys as positions is deprecated. In a future version, integer keys will always be treated as labels (consistent with DataFrame behavior). To access a value by position, use `ser.iloc[pos]`\n",
      "  if ohlc_dict[ticker]['Close'][i] > ohlc_dict[ticker][\"Rolling_Max_P\"][i] and \\\n",
      "C:\\Users\\pusha\\AppData\\Local\\Temp\\ipykernel_2620\\2737804087.py:12: FutureWarning: Series.__getitem__ treating keys as positions is deprecated. In a future version, integer keys will always be treated as labels (consistent with DataFrame behavior). To access a value by position, use `ser.iloc[pos]`\n",
      "  elif ohlc_dict[ticker]['Close'][i] < ohlc_dict[ticker]['Rolling_Min_P'][i] and \\\n",
      "C:\\Users\\pusha\\AppData\\Local\\Temp\\ipykernel_2620\\2737804087.py:8: FutureWarning: Series.__getitem__ treating keys as positions is deprecated. In a future version, integer keys will always be treated as labels (consistent with DataFrame behavior). To access a value by position, use `ser.iloc[pos]`\n",
      "  if ohlc_dict[ticker]['Close'][i] > ohlc_dict[ticker][\"Rolling_Max_P\"][i] and \\\n",
      "C:\\Users\\pusha\\AppData\\Local\\Temp\\ipykernel_2620\\2737804087.py:12: FutureWarning: Series.__getitem__ treating keys as positions is deprecated. In a future version, integer keys will always be treated as labels (consistent with DataFrame behavior). To access a value by position, use `ser.iloc[pos]`\n",
      "  elif ohlc_dict[ticker]['Close'][i] < ohlc_dict[ticker]['Rolling_Min_P'][i] and \\\n",
      "C:\\Users\\pusha\\AppData\\Local\\Temp\\ipykernel_2620\\2737804087.py:8: FutureWarning: Series.__getitem__ treating keys as positions is deprecated. In a future version, integer keys will always be treated as labels (consistent with DataFrame behavior). To access a value by position, use `ser.iloc[pos]`\n",
      "  if ohlc_dict[ticker]['Close'][i] > ohlc_dict[ticker][\"Rolling_Max_P\"][i] and \\\n",
      "C:\\Users\\pusha\\AppData\\Local\\Temp\\ipykernel_2620\\2737804087.py:12: FutureWarning: Series.__getitem__ treating keys as positions is deprecated. In a future version, integer keys will always be treated as labels (consistent with DataFrame behavior). To access a value by position, use `ser.iloc[pos]`\n",
      "  elif ohlc_dict[ticker]['Close'][i] < ohlc_dict[ticker]['Rolling_Min_P'][i] and \\\n",
      "C:\\Users\\pusha\\AppData\\Local\\Temp\\ipykernel_2620\\2737804087.py:8: FutureWarning: Series.__getitem__ treating keys as positions is deprecated. In a future version, integer keys will always be treated as labels (consistent with DataFrame behavior). To access a value by position, use `ser.iloc[pos]`\n",
      "  if ohlc_dict[ticker]['Close'][i] > ohlc_dict[ticker][\"Rolling_Max_P\"][i] and \\\n",
      "C:\\Users\\pusha\\AppData\\Local\\Temp\\ipykernel_2620\\2737804087.py:12: FutureWarning: Series.__getitem__ treating keys as positions is deprecated. In a future version, integer keys will always be treated as labels (consistent with DataFrame behavior). To access a value by position, use `ser.iloc[pos]`\n",
      "  elif ohlc_dict[ticker]['Close'][i] < ohlc_dict[ticker]['Rolling_Min_P'][i] and \\\n",
      "C:\\Users\\pusha\\AppData\\Local\\Temp\\ipykernel_2620\\2737804087.py:8: FutureWarning: Series.__getitem__ treating keys as positions is deprecated. In a future version, integer keys will always be treated as labels (consistent with DataFrame behavior). To access a value by position, use `ser.iloc[pos]`\n",
      "  if ohlc_dict[ticker]['Close'][i] > ohlc_dict[ticker][\"Rolling_Max_P\"][i] and \\\n",
      "C:\\Users\\pusha\\AppData\\Local\\Temp\\ipykernel_2620\\2737804087.py:12: FutureWarning: Series.__getitem__ treating keys as positions is deprecated. In a future version, integer keys will always be treated as labels (consistent with DataFrame behavior). To access a value by position, use `ser.iloc[pos]`\n",
      "  elif ohlc_dict[ticker]['Close'][i] < ohlc_dict[ticker]['Rolling_Min_P'][i] and \\\n",
      "C:\\Users\\pusha\\AppData\\Local\\Temp\\ipykernel_2620\\2737804087.py:8: FutureWarning: Series.__getitem__ treating keys as positions is deprecated. In a future version, integer keys will always be treated as labels (consistent with DataFrame behavior). To access a value by position, use `ser.iloc[pos]`\n",
      "  if ohlc_dict[ticker]['Close'][i] > ohlc_dict[ticker][\"Rolling_Max_P\"][i] and \\\n",
      "C:\\Users\\pusha\\AppData\\Local\\Temp\\ipykernel_2620\\2737804087.py:12: FutureWarning: Series.__getitem__ treating keys as positions is deprecated. In a future version, integer keys will always be treated as labels (consistent with DataFrame behavior). To access a value by position, use `ser.iloc[pos]`\n",
      "  elif ohlc_dict[ticker]['Close'][i] < ohlc_dict[ticker]['Rolling_Min_P'][i] and \\\n",
      "C:\\Users\\pusha\\AppData\\Local\\Temp\\ipykernel_2620\\2737804087.py:8: FutureWarning: Series.__getitem__ treating keys as positions is deprecated. In a future version, integer keys will always be treated as labels (consistent with DataFrame behavior). To access a value by position, use `ser.iloc[pos]`\n",
      "  if ohlc_dict[ticker]['Close'][i] > ohlc_dict[ticker][\"Rolling_Max_P\"][i] and \\\n",
      "C:\\Users\\pusha\\AppData\\Local\\Temp\\ipykernel_2620\\2737804087.py:12: FutureWarning: Series.__getitem__ treating keys as positions is deprecated. In a future version, integer keys will always be treated as labels (consistent with DataFrame behavior). To access a value by position, use `ser.iloc[pos]`\n",
      "  elif ohlc_dict[ticker]['Close'][i] < ohlc_dict[ticker]['Rolling_Min_P'][i] and \\\n",
      "C:\\Users\\pusha\\AppData\\Local\\Temp\\ipykernel_2620\\2737804087.py:8: FutureWarning: Series.__getitem__ treating keys as positions is deprecated. In a future version, integer keys will always be treated as labels (consistent with DataFrame behavior). To access a value by position, use `ser.iloc[pos]`\n",
      "  if ohlc_dict[ticker]['Close'][i] > ohlc_dict[ticker][\"Rolling_Max_P\"][i] and \\\n",
      "C:\\Users\\pusha\\AppData\\Local\\Temp\\ipykernel_2620\\2737804087.py:12: FutureWarning: Series.__getitem__ treating keys as positions is deprecated. In a future version, integer keys will always be treated as labels (consistent with DataFrame behavior). To access a value by position, use `ser.iloc[pos]`\n",
      "  elif ohlc_dict[ticker]['Close'][i] < ohlc_dict[ticker]['Rolling_Min_P'][i] and \\\n",
      "C:\\Users\\pusha\\AppData\\Local\\Temp\\ipykernel_2620\\2737804087.py:8: FutureWarning: Series.__getitem__ treating keys as positions is deprecated. In a future version, integer keys will always be treated as labels (consistent with DataFrame behavior). To access a value by position, use `ser.iloc[pos]`\n",
      "  if ohlc_dict[ticker]['Close'][i] > ohlc_dict[ticker][\"Rolling_Max_P\"][i] and \\\n",
      "C:\\Users\\pusha\\AppData\\Local\\Temp\\ipykernel_2620\\2737804087.py:12: FutureWarning: Series.__getitem__ treating keys as positions is deprecated. In a future version, integer keys will always be treated as labels (consistent with DataFrame behavior). To access a value by position, use `ser.iloc[pos]`\n",
      "  elif ohlc_dict[ticker]['Close'][i] < ohlc_dict[ticker]['Rolling_Min_P'][i] and \\\n",
      "C:\\Users\\pusha\\AppData\\Local\\Temp\\ipykernel_2620\\2737804087.py:8: FutureWarning: Series.__getitem__ treating keys as positions is deprecated. In a future version, integer keys will always be treated as labels (consistent with DataFrame behavior). To access a value by position, use `ser.iloc[pos]`\n",
      "  if ohlc_dict[ticker]['Close'][i] > ohlc_dict[ticker][\"Rolling_Max_P\"][i] and \\\n",
      "C:\\Users\\pusha\\AppData\\Local\\Temp\\ipykernel_2620\\2737804087.py:12: FutureWarning: Series.__getitem__ treating keys as positions is deprecated. In a future version, integer keys will always be treated as labels (consistent with DataFrame behavior). To access a value by position, use `ser.iloc[pos]`\n",
      "  elif ohlc_dict[ticker]['Close'][i] < ohlc_dict[ticker]['Rolling_Min_P'][i] and \\\n"
     ]
    }
   ],
   "source": [
    "# Identifying signals and calculating return (stop loss factored in)\n",
    "for ticker in tickers:\n",
    "    for i in range(len(ohlc_dict[ticker])):\n",
    "        \n",
    "        if tickers_signal[ticker] == \"\":\n",
    "            tickers_ret[ticker].append(0)\n",
    "            \n",
    "            if ohlc_dict[ticker]['Close'][i] > ohlc_dict[ticker][\"Rolling_Max_P\"][i] and \\\n",
    "            ohlc_dict[ticker]['Volume'][i] > 1.5*ohlc_dict[ticker]['Rolling_Max_Volume'][i-1]:\n",
    "                tickers_signal[ticker] = \"Buy\"\n",
    "            \n",
    "            elif ohlc_dict[ticker]['Close'][i] < ohlc_dict[ticker]['Rolling_Min_P'][i] and \\\n",
    "            ohlc_dict[ticker]['Volume'][i] > 1.5*ohlc_dict[ticker]['Rolling_Max_Volume'][i-1]:\n",
    "                tickers_signal[ticker] = 'Sell'\n",
    "                \n",
    "        elif tickers_signal[ticker] == \"Buy\":\n",
    "            # Changing the signal from buy to no signal if stop loss hits, and appending return.\n",
    "            if ohlc_dict[ticker]['Close'][i] < ohlc_dict[ticker]['Close'][i-1] - ohlc_dict[ticker]['ATR'][i-1]: \n",
    "                tickers_signal[ticker] = \"\"\n",
    "                tickers_ret[ticker].append((ohlc_dict[ticker]['Close'][i])/(ohlc_dict[ticker]['Close'][i-1])-1)\n",
    "            # Changing the signal from buy to sell if conditions are met and appending return.\n",
    "            elif ohlc_dict[ticker]['Close'][i] < ohlc_dict[ticker]['Rolling_Min_P'][i] and \\\n",
    "            ohlc_dict[ticker]['Volume'][i] > 1.5*ohlc_dict[ticker]['Rolling_Max_Volume'][i-1]:\n",
    "                tickers_signal[ticker] = 'Sell'\n",
    "                tickers_ret[ticker].append((ohlc_dict[ticker]['Close'][i]/ohlc_dict[ticker]['Close'][i-1])-1)\n",
    "            # Keeping the signal and simply appending the return candle by candle.\n",
    "            else:\n",
    "                tickers_ret[ticker].append((ohlc_dict[ticker]['Close'][i]/ohlc_dict[ticker]['Close'][i-1])-1) \n",
    "        elif tickers_signal[ticker] == \"Sell\":\n",
    "            # Changing the signal from sell to no signal if stop loss hits, and appending return.\n",
    "            if ohlc_dict[ticker]['Close'][i] > ohlc_dict[ticker]['Close'][i-1] + ohlc_dict[ticker]['ATR'][i-1]: \n",
    "                tickers_signal[ticker] = \"\"\n",
    "                tickers_ret[ticker].append((ohlc_dict[ticker]['Close'][i])/(ohlc_dict[ticker]['Close'][i-1])-1)\n",
    "            # Changing the signal from sell to buy if conditions are met and appending return.\n",
    "            elif ohlc_dict[ticker]['Close'][i] > ohlc_dict[ticker][\"Rolling_Max_P\"][i] and \\\n",
    "                ohlc_dict[ticker]['Volume'][i] > 1.5*ohlc_dict[ticker]['Rolling_Max_Volume'][i-1]:\n",
    "                tickers_signal[ticker] = \"Buy\"\n",
    "                tickers_ret[ticker].append((ohlc_dict[ticker]['Close'][i]/ohlc_dict[ticker]['Close'][i-1])-1)\n",
    "            # Keeping the signal and simply appending the return candle by candle.\n",
    "            else:\n",
    "                tickers_ret[ticker].append((ohlc_dict[ticker]['Close'][i]/ohlc_dict[ticker]['Close'][i-1])-1) \n",
    "\n",
    "    ohlc_dict[ticker]['Return'] = np.array(tickers_ret[ticker])"
   ]
  },
  {
   "cell_type": "markdown",
   "id": "d07ab691-286e-43cf-83ca-0719e6186090",
   "metadata": {},
   "source": [
    "## Calculating Overall Strategy's KPIs"
   ]
  },
  {
   "cell_type": "code",
   "execution_count": 69,
   "id": "0adb5ed6-c089-424e-9e3e-5f279ff86c4c",
   "metadata": {},
   "outputs": [],
   "source": [
    "strategy_df = pd.DataFrame()\n",
    "for ticker in tickers:\n",
    "    strategy_df[ticker] = ohlc_dict[ticker][\"Return\"]\n",
    "strategy_df[\"Return\"] = strategy_df.mean(axis=1)"
   ]
  },
  {
   "cell_type": "code",
   "execution_count": 72,
   "id": "ada3641b-a415-43a1-b780-ae07067b0f3e",
   "metadata": {},
   "outputs": [
    {
     "name": "stderr",
     "output_type": "stream",
     "text": [
      "C:\\Users\\pusha\\AppData\\Local\\Temp\\ipykernel_2620\\3760936022.py:30: RuntimeWarning: divide by zero encountered in scalar divide\n",
      "  sr = (CAGR(df) - rf)/volatility(df)\n"
     ]
    },
    {
     "data": {
      "text/plain": [
       "0.0"
      ]
     },
     "execution_count": 72,
     "metadata": {},
     "output_type": "execute_result"
    }
   ],
   "source": [
    "CAGR(strategy_df)\n",
    "sharpe(strategy_df,0.025)\n",
    "max_dd(strategy_df)  "
   ]
  },
  {
   "cell_type": "code",
   "execution_count": null,
   "id": "3001dfc2-411e-4105-97af-8d8dfb50ee9c",
   "metadata": {},
   "outputs": [],
   "source": []
  }
 ],
 "metadata": {
  "kernelspec": {
   "display_name": "Python 3 (ipykernel)",
   "language": "python",
   "name": "python3"
  },
  "language_info": {
   "codemirror_mode": {
    "name": "ipython",
    "version": 3
   },
   "file_extension": ".py",
   "mimetype": "text/x-python",
   "name": "python",
   "nbconvert_exporter": "python",
   "pygments_lexer": "ipython3",
   "version": "3.11.7"
  }
 },
 "nbformat": 4,
 "nbformat_minor": 5
}
