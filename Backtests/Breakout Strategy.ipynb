{
 "cells": [
  {
   "cell_type": "code",
   "execution_count": 2,
   "id": "d15c39f7",
   "metadata": {},
   "outputs": [],
   "source": [
    "import numpy as np\n",
    "import matplotlib.pyplot as plt\n",
    "import pandas as pd\n",
    "import yfinance as yf\n",
    "import datetime as dt\n",
    "import copy\n",
    "import time\n",
    "import warnings\n",
    "warnings.filterwarnings(\"ignore\")"
   ]
  },
  {
   "cell_type": "markdown",
   "id": "8ba1c060-cafa-4bfe-a01d-c743b1145075",
   "metadata": {},
   "source": [
    "## Utility Functions"
   ]
  },
  {
   "cell_type": "markdown",
   "id": "92f30a54-6f71-4d2a-89f8-d7869c858933",
   "metadata": {},
   "source": [
    "Since we will be using 5m data, so we'll have to tweak our CAGR and volatitility functions accordingly to take into account 5m intraday data, since they were originally made for daily data. We have assumed 252 trading days in a year and 78 5M candles in a single trading session."
   ]
  },
  {
   "cell_type": "code",
   "execution_count": 3,
   "id": "3214618b",
   "metadata": {},
   "outputs": [],
   "source": [
    "def ATR(DF,n):\n",
    "    \"function to calculate True Range and Average True Range\"\n",
    "    df = DF.copy()\n",
    "    df['H-L']=abs(df['High']-df['Low'])\n",
    "    df['H-PC']=abs(df['High']-df['Close'].shift(1))\n",
    "    df['L-PC']=abs(df['Low']-df['Close'].shift(1))\n",
    "    df['TR']=df[['H-L','H-PC','L-PC']].max(axis=1,skipna=False)\n",
    "    df['ATR'] = df['TR'].rolling(n).mean()\n",
    "    #df['ATR'] = df['TR'].ewm(span=n,adjust=False,min_periods=n).mean()\n",
    "    df2 = df.drop(['H-L','H-PC','L-PC'],axis=1)\n",
    "    return df2['ATR']\n",
    "\n",
    "def CAGR(DF):\n",
    "    \"function to calculate the Cumulative Annual Growth Rate of a trading strategy\"\n",
    "    df = DF.copy()\n",
    "    df[\"cum_return\"] = (1 + df[\"ret\"]).cumprod()\n",
    "    n = len(df)/(252*78)\n",
    "    CAGR = (df[\"cum_return\"].tolist()[-1])**(1/n) - 1\n",
    "    return CAGR\n",
    "\n",
    "def volatility(DF):\n",
    "    \"function to calculate annualized volatility of a trading strategy\"\n",
    "    df = DF.copy()\n",
    "    vol = df[\"ret\"].std() * np.sqrt(252*78)\n",
    "    return vol\n",
    "\n",
    "def sharpe(DF,rf):\n",
    "    \"function to calculate sharpe ratio ; rf is the risk free rate\"\n",
    "    df = DF.copy()\n",
    "    sr = (CAGR(df) - rf)/volatility(df)\n",
    "    return sr\n",
    "    \n",
    "\n",
    "def max_dd(DF):\n",
    "    \"function to calculate max drawdown\"\n",
    "    df = DF.copy()\n",
    "    df[\"cum_return\"] = (1 + df[\"ret\"]).cumprod()\n",
    "    df[\"cum_roll_max\"] = df[\"cum_return\"].cummax()\n",
    "    df[\"drawdown\"] = df[\"cum_roll_max\"] - df[\"cum_return\"]\n",
    "    df[\"drawdown_pct\"] = df[\"drawdown\"]/df[\"cum_roll_max\"]\n",
    "    max_dd = df[\"drawdown_pct\"].max()\n",
    "    return max_dd\n"
   ]
  },
  {
   "cell_type": "markdown",
   "id": "f0399f74-593e-4c4c-be1b-87ccea446803",
   "metadata": {},
   "source": [
    "## Getting Stock data\n",
    "We are mainly focusing on stocks which see a lot of day to day action, ie. mostly tech stocks which have high trading volumes daily."
   ]
  },
  {
   "cell_type": "code",
   "execution_count": 4,
   "id": "991adfcd-01a0-40d0-a416-6dd4cd745365",
   "metadata": {},
   "outputs": [
    {
     "name": "stderr",
     "output_type": "stream",
     "text": [
      "[*********************100%%**********************]  1 of 1 completed\n",
      "[*********************100%%**********************]  1 of 1 completed\n",
      "[*********************100%%**********************]  1 of 1 completed\n",
      "[*********************100%%**********************]  1 of 1 completed\n",
      "[*********************100%%**********************]  1 of 1 completed\n",
      "[*********************100%%**********************]  1 of 1 completed\n",
      "[*********************100%%**********************]  1 of 1 completed\n",
      "[*********************100%%**********************]  1 of 1 completed\n",
      "[*********************100%%**********************]  1 of 1 completed\n",
      "[*********************100%%**********************]  1 of 1 completed\n"
     ]
    }
   ],
   "source": [
    "tickers = [\"MSFT\", \"AAPL\", \"META\", \"AMZN\", \"INTC\", \"CSCO\", \"VZ\", \"IBM\", \"TSLA\", \"AMD\"]\n",
    "ohlc_intraday = {}  # Dictionary to store OHLC data for each stock\n",
    "\n",
    "# Define start and end dates for data retrieval\n",
    "end_date = dt.datetime.today()\n",
    "start_date = end_date - dt.timedelta(37)  # Fetch data for at least 36 days\n",
    "\n",
    "# Loop over tickers and retrieve intraday OHLC data\n",
    "for ticker in tickers:\n",
    "    ohlc_intraday[ticker] = yf.download(ticker, start=start_date, end=end_date, interval='5m')\n",
    "    ohlc_intraday[ticker].dropna(inplace=True, how=\"all\")\n",
    "\n",
    "# Adjust datetime index to UTC timezone for consistency\n",
    "for ticker in tickers:\n",
    "    ohlc_intraday[ticker].index = ohlc_intraday[ticker].index.tz_convert('UTC')"
   ]
  },
  {
   "cell_type": "markdown",
   "id": "373430d1-6a5a-4e88-9679-fedd0bc59226",
   "metadata": {},
   "source": [
    "## Backtesting\n",
    "The algorithm will be monitoring all the stocks candle by candle and if our criterias are met at a particular candle, the algorithm will place a buy/sell order along with a stop loss. \n",
    "\n",
    "#### Strategy Rules :\n",
    "1. Candle breaching the 20 period rolling max/min price.\n",
    "2. Volume breaching 1.5 times the rolling max volume of the previous candle.\n",
    "3. Generate a signal to go buy or sell and append to signal dictionary for the ticker.\n",
    "4. The trailing stop loss will be set to close price of the candle plus minus 20 period ATR. "
   ]
  },
  {
   "cell_type": "code",
   "execution_count": 5,
   "id": "9180dd59-0906-4915-86b1-5c3e67de54a8",
   "metadata": {},
   "outputs": [],
   "source": [
    "ohlc_dict = copy.deepcopy(ohlc_intraday)\n",
    "tickers_signal = {}\n",
    "tickers_ret = {}\n",
    "for ticker in tickers:\n",
    "    ohlc_dict[ticker][\"ATR\"] = ATR(ohlc_dict[ticker],20)\n",
    "    ohlc_dict[ticker][\"roll_max_cp\"] = ohlc_dict[ticker][\"High\"].rolling(20).max()\n",
    "    ohlc_dict[ticker][\"roll_min_cp\"] = ohlc_dict[ticker][\"Low\"].rolling(20).min()\n",
    "    ohlc_dict[ticker][\"roll_max_vol\"] = ohlc_dict[ticker][\"Volume\"].rolling(20).max()\n",
    "    ohlc_dict[ticker].dropna(inplace=True)\n",
    "    tickers_signal[ticker] = \"\"\n",
    "    tickers_ret[ticker] = [0]"
   ]
  },
  {
   "cell_type": "code",
   "execution_count": 6,
   "id": "c593d0c4-3bef-4b0c-8d07-0de23c79b168",
   "metadata": {},
   "outputs": [],
   "source": [
    "# identifying signals and calculating daily return (stop loss factored in)\n",
    "for ticker in tickers:\n",
    "    for i in range(1,len(ohlc_dict[ticker])):\n",
    "        if tickers_signal[ticker] == \"\":\n",
    "            tickers_ret[ticker].append(0)\n",
    "            if ohlc_dict[ticker][\"High\"][i]>=ohlc_dict[ticker][\"roll_max_cp\"][i] and \\\n",
    "               ohlc_dict[ticker][\"Volume\"][i]>1.5*ohlc_dict[ticker][\"roll_max_vol\"][i-1]:\n",
    "                tickers_signal[ticker] = \"Buy\"\n",
    "            elif ohlc_dict[ticker][\"Low\"][i]<=ohlc_dict[ticker][\"roll_min_cp\"][i] and \\\n",
    "               ohlc_dict[ticker][\"Volume\"][i]>1.5*ohlc_dict[ticker][\"roll_max_vol\"][i-1]:\n",
    "                tickers_signal[ticker] = \"Sell\"\n",
    "        \n",
    "        elif tickers_signal[ticker] == \"Buy\":\n",
    "            # If stop loss is hit, change signal form buy to no signal and calculate return and append to tickers_ret dictionary under the correct key.\n",
    "            if ohlc_dict[ticker][\"Low\"][i]<ohlc_dict[ticker][\"Close\"][i-1] - ohlc_dict[ticker][\"ATR\"][i-1]:\n",
    "                tickers_signal[ticker] = \"\"\n",
    "                tickers_ret[ticker].append(((ohlc_dict[ticker][\"Close\"][i-1] - ohlc_dict[ticker][\"ATR\"][i-1])/ohlc_dict[ticker][\"Close\"][i-1])-1)\n",
    "            # If stop loss is hit and criteria are met for the opposite side, open a reversal position and append return to tickers_net under the correct key.\n",
    "            elif ohlc_dict[ticker][\"Low\"][i]<=ohlc_dict[ticker][\"roll_min_cp\"][i] and \\\n",
    "               ohlc_dict[ticker][\"Volume\"][i]>1.5*ohlc_dict[ticker][\"roll_max_vol\"][i-1]:\n",
    "                tickers_signal[ticker] = \"Sell\"\n",
    "                tickers_ret[ticker].append((ohlc_dict[ticker][\"Close\"][i]/ohlc_dict[ticker][\"Close\"][i-1])-1)\n",
    "            # If the position is open, calculate the return and append to tickers_ret dictionary under the correct key.\n",
    "            else:\n",
    "                tickers_ret[ticker].append((ohlc_dict[ticker][\"Close\"][i]/ohlc_dict[ticker][\"Close\"][i-1])-1)\n",
    "                \n",
    "        elif tickers_signal[ticker] == \"Sell\":\n",
    "            # If stop loss is hit, change signal form sell to no signal and calculate return and append to tickers_ret dictionary under the correct key.\n",
    "            if ohlc_dict[ticker][\"High\"][i]>ohlc_dict[ticker][\"Close\"][i-1] + ohlc_dict[ticker][\"ATR\"][i-1]:\n",
    "                tickers_signal[ticker] = \"\"\n",
    "                tickers_ret[ticker].append((ohlc_dict[ticker][\"Close\"][i-1]/(ohlc_dict[ticker][\"Close\"][i-1] + ohlc_dict[ticker][\"ATR\"][i-1]))-1)\n",
    "            # If stop loss is hit and criteria are met for the opposite side, open a reversal position and append return to tickers_net under the correct key.\n",
    "            elif ohlc_dict[ticker][\"High\"][i]>=ohlc_dict[ticker][\"roll_max_cp\"][i] and \\\n",
    "               ohlc_dict[ticker][\"Volume\"][i]>1.5*ohlc_dict[ticker][\"roll_max_vol\"][i-1]:\n",
    "                tickers_signal[ticker] = \"Buy\"\n",
    "                tickers_ret[ticker].append((ohlc_dict[ticker][\"Close\"][i-1]/ohlc_dict[ticker][\"Close\"][i])-1)\n",
    "            # If the position is open, calculate the return and append to tickers_ret dictionary under the correct key.\n",
    "            else:\n",
    "                tickers_ret[ticker].append((ohlc_dict[ticker][\"Close\"][i-1]/ohlc_dict[ticker][\"Close\"][i])-1)\n",
    "                \n",
    "    ohlc_dict[ticker][\"ret\"] = np.array(tickers_ret[ticker])"
   ]
  },
  {
   "cell_type": "markdown",
   "id": "d07ab691-286e-43cf-83ca-0719e6186090",
   "metadata": {},
   "source": [
    "## Calculating Overall Strategy's KPIs"
   ]
  },
  {
   "cell_type": "code",
   "execution_count": 7,
   "id": "0adb5ed6-c089-424e-9e3e-5f279ff86c4c",
   "metadata": {},
   "outputs": [],
   "source": [
    "strategy_df = pd.DataFrame()\n",
    "for ticker in tickers:\n",
    "    strategy_df[ticker] = ohlc_dict[ticker][\"ret\"]\n",
    "strategy_df[\"ret\"] = strategy_df.mean(axis=1)"
   ]
  },
  {
   "cell_type": "code",
   "execution_count": 8,
   "id": "ada3641b-a415-43a1-b780-ae07067b0f3e",
   "metadata": {},
   "outputs": [
    {
     "name": "stdout",
     "output_type": "stream",
     "text": [
      "CAGR for the startegy was  0.12218018905552519\n",
      "Sharpe Ratio for strategy was  2.536480673479375\n",
      "Max Drawdown for strategy was  0.006275226606944973\n"
     ]
    }
   ],
   "source": [
    "print(\"CAGR for the startegy was \",CAGR(strategy_df))\n",
    "print(\"Sharpe Ratio for strategy was \",sharpe(strategy_df,0.025))\n",
    "print(\"Max Drawdown for strategy was \",max_dd(strategy_df)) "
   ]
  },
  {
   "cell_type": "markdown",
   "id": "4cc0a459-61f4-49ec-8b07-0c7671b99528",
   "metadata": {},
   "source": [
    "We got a pretty good return of 13% in just a month with minimal drawdown of 0.5%. Seems like a pretty good month for the strategy."
   ]
  },
  {
   "cell_type": "markdown",
   "id": "2d8beb31-f678-4c98-9c86-176b77eb2034",
   "metadata": {},
   "source": [
    "## Visualisation and Results"
   ]
  },
  {
   "cell_type": "code",
   "execution_count": 9,
   "id": "e0c8d8f1-3e77-4a6f-832e-cf3d060a52e0",
   "metadata": {},
   "outputs": [
    {
     "data": {
      "text/plain": [
       "<function matplotlib.pyplot.show(close=None, block=None)>"
      ]
     },
     "execution_count": 9,
     "metadata": {},
     "output_type": "execute_result"
    },
    {
     "data": {
      "image/png": "[encoded data removed]",
      "text/plain": [
       "<Figure size 640x480 with 1 Axes>"
      ]
     },
     "metadata": {},
     "output_type": "display_data"
    }
   ],
   "source": [
    "(1+strategy_df[\"ret\"]).cumprod().plot()\n",
    "plt.xlabel(\"Date\")\n",
    "plt.ylabel(\"Cumulative Returns\")\n",
    "plt.title('Equity Growth Curve of 1 Dollar Invested in the Strategy')\n",
    "plt.show"
   ]
  },
  {
   "cell_type": "markdown",
   "id": "bc09c913-7245-4da8-a070-2ab5aa76e9d2",
   "metadata": {},
   "source": [
    "We can see that we're getting a lot of volatility in this strategy and the cumulative returns actually started going down toward the end of the backtesting period. "
   ]
  },
  {
   "cell_type": "markdown",
   "id": "d10b9da7-4ee1-4ad7-aa01-3cc6f25a2875",
   "metadata": {},
   "source": [
    "## Calculating individual stock's KPIs"
   ]
  },
  {
   "cell_type": "code",
   "execution_count": 10,
   "id": "0858ea74-df0d-4a4e-972f-5e76a711f172",
   "metadata": {},
   "outputs": [
    {
     "data": {
      "text/html": [
       "<div>\n",
       "<style scoped>\n",
       "    .dataframe tbody tr th:only-of-type {\n",
       "        vertical-align: middle;\n",
       "    }\n",
       "\n",
       "    .dataframe tbody tr th {\n",
       "        vertical-align: top;\n",
       "    }\n",
       "\n",
       "    .dataframe thead th {\n",
       "        text-align: right;\n",
       "    }\n",
       "</style>\n",
       "<table border=\"1\" class=\"dataframe\">\n",
       "  <thead>\n",
       "    <tr style=\"text-align: right;\">\n",
       "      <th></th>\n",
       "      <th>Return</th>\n",
       "      <th>Sharpe Ratio</th>\n",
       "      <th>Max Drawdown</th>\n",
       "    </tr>\n",
       "  </thead>\n",
       "  <tbody>\n",
       "    <tr>\n",
       "      <th>MSFT</th>\n",
       "      <td>0.317499</td>\n",
       "      <td>2.761759</td>\n",
       "      <td>0.015190</td>\n",
       "    </tr>\n",
       "    <tr>\n",
       "      <th>AAPL</th>\n",
       "      <td>-0.111805</td>\n",
       "      <td>-2.835350</td>\n",
       "      <td>0.018823</td>\n",
       "    </tr>\n",
       "    <tr>\n",
       "      <th>META</th>\n",
       "      <td>-0.303849</td>\n",
       "      <td>-3.186709</td>\n",
       "      <td>0.047438</td>\n",
       "    </tr>\n",
       "    <tr>\n",
       "      <th>AMZN</th>\n",
       "      <td>-0.003087</td>\n",
       "      <td>-0.385450</td>\n",
       "      <td>0.025050</td>\n",
       "    </tr>\n",
       "    <tr>\n",
       "      <th>INTC</th>\n",
       "      <td>-0.195007</td>\n",
       "      <td>-2.024773</td>\n",
       "      <td>0.050395</td>\n",
       "    </tr>\n",
       "    <tr>\n",
       "      <th>CSCO</th>\n",
       "      <td>-0.092151</td>\n",
       "      <td>-3.585392</td>\n",
       "      <td>0.010220</td>\n",
       "    </tr>\n",
       "    <tr>\n",
       "      <th>VZ</th>\n",
       "      <td>1.233887</td>\n",
       "      <td>13.125941</td>\n",
       "      <td>0.008053</td>\n",
       "    </tr>\n",
       "    <tr>\n",
       "      <th>IBM</th>\n",
       "      <td>0.411500</td>\n",
       "      <td>3.197799</td>\n",
       "      <td>0.011285</td>\n",
       "    </tr>\n",
       "    <tr>\n",
       "      <th>TSLA</th>\n",
       "      <td>0.369092</td>\n",
       "      <td>1.929346</td>\n",
       "      <td>0.046423</td>\n",
       "    </tr>\n",
       "    <tr>\n",
       "      <th>AMD</th>\n",
       "      <td>0.267317</td>\n",
       "      <td>1.064028</td>\n",
       "      <td>0.038387</td>\n",
       "    </tr>\n",
       "  </tbody>\n",
       "</table>\n",
       "</div>"
      ],
      "text/plain": [
       "        Return  Sharpe Ratio  Max Drawdown\n",
       "MSFT  0.317499      2.761759      0.015190\n",
       "AAPL -0.111805     -2.835350      0.018823\n",
       "META -0.303849     -3.186709      0.047438\n",
       "AMZN -0.003087     -0.385450      0.025050\n",
       "INTC -0.195007     -2.024773      0.050395\n",
       "CSCO -0.092151     -3.585392      0.010220\n",
       "VZ    1.233887     13.125941      0.008053\n",
       "IBM   0.411500      3.197799      0.011285\n",
       "TSLA  0.369092      1.929346      0.046423\n",
       "AMD   0.267317      1.064028      0.038387"
      ]
     },
     "execution_count": 10,
     "metadata": {},
     "output_type": "execute_result"
    }
   ],
   "source": [
    "cagr = {}\n",
    "sharpe_ratios = {}\n",
    "max_drawdown = {}\n",
    "for ticker in tickers:\n",
    "    cagr[ticker] =  CAGR(ohlc_dict[ticker])\n",
    "    sharpe_ratios[ticker] =  sharpe(ohlc_dict[ticker],0.025)\n",
    "    max_drawdown[ticker] =  max_dd(ohlc_dict[ticker])\n",
    "\n",
    "KPI_df = pd.DataFrame([cagr,sharpe_ratios,max_drawdown],index=[\"Return\",\"Sharpe Ratio\",\"Max Drawdown\"])      \n",
    "KPI_df.T"
   ]
  },
  {
   "cell_type": "markdown",
   "id": "74020532-d2be-46e7-a492-090e2cdafefa",
   "metadata": {},
   "source": [
    "We can see that the tickers that gave positive returns generated massive profits, AMZN was more or less breakeven while returns of META was unusually negative. THe reson for this will be explained in the next section."
   ]
  },
  {
   "cell_type": "markdown",
   "id": "76df9eef-5c3a-4217-8e1f-b6a9ee8195bf",
   "metadata": {},
   "source": [
    "## Drawbacks"
   ]
  },
  {
   "cell_type": "markdown",
   "id": "b3394ff3-c1cb-45fe-a3a4-8cf87e840e93",
   "metadata": {},
   "source": [
    "1. We have assumed in this strategy that we will be getting our trades at the exact close price which is quite difficult in real time markets. This strategy can be improved by incorporating slippage into it.\n",
    "2. We have not taken into account the cost of fees in calculating the return as the fees can pile up with the number of trades.\n",
    "3. We have not taken into account closing the trades at End of Day. If the trade is carried forward to the next day, and the stock opens with a gap, then our stop loss will be massively affected. On April 25 META stock opened down 10.5% from it's previous daily close because the investors were disappointed with a sales forecast that missed expectations and news that spending is on the rise. Such events can tank our portfolio and make the strategy lose more koney than it initially intended to.\n"
   ]
  }
 ],
 "metadata": {
  "kernelspec": {
   "display_name": "Python 3 (ipykernel)",
   "language": "python",
   "name": "python3"
  },
  "language_info": {
   "codemirror_mode": {
    "name": "ipython",
    "version": 3
   },
   "file_extension": ".py",
   "mimetype": "text/x-python",
   "name": "python",
   "nbconvert_exporter": "python",
   "pygments_lexer": "ipython3",
   "version": "3.11.7"
  }
 },
 "nbformat": 4,
 "nbformat_minor": 5
}
