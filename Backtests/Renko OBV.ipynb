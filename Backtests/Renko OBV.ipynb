{
 "cells": [
  {
   "cell_type": "code",
   "execution_count": 56,
   "id": "d9c12f1f-0750-4814-a908-02a79b04c3b1",
   "metadata": {},
   "outputs": [],
   "source": [
    "import numpy as np\n",
    "import pandas as pd\n",
    "import matplotlib.pyplot as plt\n",
    "from stocktrends import Renko\n",
    "import statsmodels.api as sm\n",
    "import yfinance as yf\n",
    "import datetime as dt\n",
    "import copy\n",
    "import warnings\n",
    "warnings.filterwarnings(\"ignore\")"
   ]
  },
  {
   "cell_type": "markdown",
   "id": "8a3ef26b-d8c9-42cc-94fe-dd2a3c469777",
   "metadata": {},
   "source": [
    "## Utility Functions\n"
   ]
  },
  {
   "cell_type": "code",
   "execution_count": 9,
   "id": "12c773e8-a9e7-4136-bae1-06ad00fdb0ab",
   "metadata": {},
   "outputs": [],
   "source": [
    "def ATR(DF,n):\n",
    "    \"function to calculate True Range and Average True Range\"\n",
    "    df = DF.copy()\n",
    "    df['H-L']=abs(df['High']-df['Low'])\n",
    "    df['H-PC']=abs(df['High']-df['Adj Close'].shift(1))\n",
    "    df['L-PC']=abs(df['Low']-df['Adj Close'].shift(1))\n",
    "    df['TR']=df[['H-L','H-PC','L-PC']].max(axis=1,skipna=False)\n",
    "    df['ATR'] = df['TR'].rolling(n).mean()\n",
    "    #df['ATR'] = df['TR'].ewm(span=n,adjust=False,min_periods=n).mean()\n",
    "    df2 = df.drop(['H-L','H-PC','L-PC'],axis=1)\n",
    "    return df2\n",
    "\n",
    "def slope(ser,n):\n",
    "    \"function to calculate the slope of n consecutive points on a plot\"\n",
    "    slopes = [i*0 for i in range(n-1)]\n",
    "    for i in range(n,len(ser)+1):\n",
    "        y = ser[i-n:i]\n",
    "        x = np.array(range(n))\n",
    "        y_scaled = (y - y.min())/(y.max() - y.min())\n",
    "        x_scaled = (x - x.min())/(x.max() - x.min())\n",
    "        x_scaled = sm.add_constant(x_scaled)\n",
    "        model = sm.OLS(y_scaled,x_scaled)\n",
    "        results = model.fit()\n",
    "        slopes.append(results.params[-1])\n",
    "    slope_angle = (np.rad2deg(np.arctan(np.array(slopes))))\n",
    "    return np.array(slope_angle)\n",
    "\n",
    "def renko_DF(DF):\n",
    "    \"function to convert ohlc data into renko bricks\"\n",
    "    df = DF.copy()\n",
    "    df.reset_index(inplace=True)\n",
    "    df = df.iloc[:,[0,1,2,3,4,5]]\n",
    "    df.columns = [\"date\",\"open\",\"high\",\"low\",\"close\",\"volume\"]\n",
    "    df2 = Renko(df)\n",
    "    df2.brick_size = max(0.5,round(ATR(DF,120)[\"ATR\"][-1],0))\n",
    "    renko_df = df2.get_ohlc_data()\n",
    "    renko_df[\"bar_num\"] = np.where(renko_df[\"uptrend\"]==True,1,np.where(renko_df[\"uptrend\"]==False,-1,0))\n",
    "    for i in range(1,len(renko_df[\"bar_num\"])):\n",
    "        if renko_df[\"bar_num\"][i]>0 and renko_df[\"bar_num\"][i-1]>0:\n",
    "            renko_df[\"bar_num\"][i]+=renko_df[\"bar_num\"][i-1]\n",
    "        elif renko_df[\"bar_num\"][i]<0 and renko_df[\"bar_num\"][i-1]<0:\n",
    "            renko_df[\"bar_num\"][i]+=renko_df[\"bar_num\"][i-1]\n",
    "    renko_df.drop_duplicates(subset=\"date\",keep=\"last\",inplace=True)\n",
    "    return renko_df\n",
    "\n",
    "def OBV(DF):\n",
    "    \"\"\"function to calculate On Balance Volume\"\"\"\n",
    "    df = DF.copy()\n",
    "    df['daily_ret'] = df['Adj Close'].pct_change()\n",
    "    df['direction'] = np.where(df['daily_ret']>=0,1,-1)\n",
    "    df['direction'][0] = 0\n",
    "    df['vol_adj'] = df['Volume'] * df['direction']\n",
    "    df['obv'] = df['vol_adj'].cumsum()\n",
    "    return df['obv']\n",
    "\n",
    "def CAGR(DF):\n",
    "    \"function to calculate the Cumulative Annual Growth Rate of a trading strategy\"\n",
    "    df = DF.copy()\n",
    "    df[\"cum_return\"] = (1 + df[\"ret\"]).cumprod()\n",
    "    n = len(df)/(252*78)\n",
    "    CAGR = (df[\"cum_return\"].tolist()[-1])**(1/n) - 1\n",
    "    return CAGR\n",
    "\n",
    "def volatility(DF):\n",
    "    \"function to calculate annualized volatility of a trading strategy\"\n",
    "    df = DF.copy()\n",
    "    vol = df[\"ret\"].std() * np.sqrt(252*78)\n",
    "    return vol\n",
    "\n",
    "def sharpe(DF,rf):\n",
    "    \"function to calculate sharpe ratio ; rf is the risk free rate\"\n",
    "    df = DF.copy()\n",
    "    sr = (CAGR(df) - rf)/volatility(df)\n",
    "    return sr\n",
    "    \n",
    "\n",
    "def max_dd(DF):\n",
    "    \"function to calculate max drawdown\"\n",
    "    df = DF.copy()\n",
    "    df[\"cum_return\"] = (1 + df[\"ret\"]).cumprod()\n",
    "    df[\"cum_roll_max\"] = df[\"cum_return\"].cummax()\n",
    "    df[\"drawdown\"] = df[\"cum_roll_max\"] - df[\"cum_return\"]\n",
    "    df[\"drawdown_pct\"] = df[\"drawdown\"]/df[\"cum_roll_max\"]\n",
    "    max_dd = df[\"drawdown_pct\"].max()\n",
    "    return max_dd"
   ]
  },
  {
   "cell_type": "markdown",
   "id": "fbe321da-b646-4214-ac3f-62dabe40ea82",
   "metadata": {},
   "source": [
    "## Getting Stock data\n",
    "We are mainly focusing on stocks which see a lot of day to day action, ie. mostly tech stocks which have high trading volumes daily."
   ]
  },
  {
   "cell_type": "code",
   "execution_count": 21,
   "id": "316183fa-bac6-490f-86f7-c106fc109c74",
   "metadata": {},
   "outputs": [
    {
     "name": "stderr",
     "output_type": "stream",
     "text": [
      "[*********************100%%**********************]  1 of 1 completed\n",
      "[*********************100%%**********************]  1 of 1 completed\n",
      "[*********************100%%**********************]  1 of 1 completed\n",
      "[*********************100%%**********************]  1 of 1 completed\n",
      "[*********************100%%**********************]  1 of 1 completed\n",
      "[*********************100%%**********************]  1 of 1 completed\n",
      "[*********************100%%**********************]  1 of 1 completed\n",
      "[*********************100%%**********************]  1 of 1 completed\n",
      "[*********************100%%**********************]  1 of 1 completed\n",
      "[*********************100%%**********************]  1 of 1 completed\n"
     ]
    }
   ],
   "source": [
    "tickers = [\"MSFT\", \"AAPL\", \"META\", \"AMZN\", \"INTC\", \"CSCO\", \"VZ\", \"IBM\", \"TSLA\", \"AMD\"]\n",
    "ohlc_intraday = {}  # Dictionary to store OHLC data for each stock\n",
    "\n",
    "# Define start and end dates for data retrieval\n",
    "end_date = dt.datetime.today()\n",
    "start_date = end_date - dt.timedelta(37)  # Fetch data for at least 36 days\n",
    "\n",
    "# Loop over tickers and retrieve intraday OHLC data\n",
    "for ticker in tickers:\n",
    "    ohlc_intraday[ticker] = yf.download(ticker, start=start_date, end=end_date, interval='5m')\n",
    "    ohlc_intraday[ticker].dropna(inplace=True, how=\"all\")\n",
    "\n",
    "# Adjust datetime index to UTC timezone for consistency\n",
    "for ticker in tickers:\n",
    "    ohlc_intraday[ticker].index = ohlc_intraday[ticker].index.tz_convert('UTC')\n",
    "\n",
    "# Redefine tickers variable after removing any tickers with corrupted data\n",
    "tickers = ohlc_intraday.keys() "
   ]
  },
  {
   "cell_type": "markdown",
   "id": "3dcb3101-bd5c-4502-93d6-b48fffeab56e",
   "metadata": {},
   "source": [
    "## Processing\n",
    "We merge the information from renko into our stock dataframe. Since we only need the bar close information we'll only integrate that column as all the other data columns are same. We will also initialise the ticker signal and ticker return dictionary which will be used later in generating signals and returns for each ticker."
   ]
  },
  {
   "cell_type": "code",
   "execution_count": 43,
   "id": "cf0d9174-db2b-4a31-9ec3-f51b3b517611",
   "metadata": {},
   "outputs": [],
   "source": [
    "df = copy.deepcopy(ohlc_intraday)\n",
    "tickers_signal = {}\n",
    "tickers_ret = {}\n",
    "for ticker in tickers:\n",
    "    renko = renko_DF(df[ticker])\n",
    "    renko.set_index('date',inplace = True) # Converting the date from column to index to match df[ticker] \n",
    "    df[ticker]['bar_num'] = renko['bar_num']\n",
    "    ohlc_renko = df\n",
    "    ohlc_renko[ticker][\"bar_num\"].fillna(method='ffill',inplace=True)\n",
    "    ohlc_renko[ticker][\"obv\"]= OBV(ohlc_renko[ticker])\n",
    "    ohlc_renko[ticker][\"obv_slope\"]= slope(ohlc_renko[ticker][\"obv\"],5)\n",
    "    tickers_signal[ticker] = \"\"\n",
    "    tickers_ret[ticker] = []"
   ]
  },
  {
   "cell_type": "markdown",
   "id": "1037e663-6db1-4b30-9a8e-fddc05b317de",
   "metadata": {},
   "source": [
    "## Backtesting\n",
    "The algorithm will be monitoring all the stocks candle by candle and if our criterias are met at a particular candle, the algorithm will place a buy/sell order along with a pre set criteria to close the position.\n",
    "#### Strategy Rules\n",
    "BUY SIGNAL\n",
    "1. Renko bar greater than or equal to 2.\n",
    "2. 5 day OBV slope greater than 30 degrees.\n",
    "3. Exit when renko bar is less than 2.\n",
    "\n",
    "SELL SIGNAL\n",
    "1. Renko bar less than or equal to -2.\n",
    "2. 5 day OBV slope less than -30 degrees.\n",
    "3. Exit when renko bar is greater than -2."
   ]
  },
  {
   "cell_type": "code",
   "execution_count": 44,
   "id": "9e22fed1-6c13-484f-b848-20a630c1a62e",
   "metadata": {},
   "outputs": [],
   "source": [
    "#Identifying signals and calculating  return\n",
    "for ticker in tickers:\n",
    "    for i in range(len(ohlc_intraday[ticker])):\n",
    "        if tickers_signal[ticker] == \"\":\n",
    "            tickers_ret[ticker].append(0)\n",
    "            if ohlc_renko[ticker][\"bar_num\"][i]>=2 and ohlc_renko[ticker][\"obv_slope\"][i]>30: # Sending buy signal if buy conditions are met.\n",
    "                tickers_signal[ticker] = \"Buy\"\n",
    "            elif ohlc_renko[ticker][\"bar_num\"][i]<=-2 and ohlc_renko[ticker][\"obv_slope\"][i]<-30: # sending sell signal if sell conditions are met.\n",
    "                tickers_signal[ticker] = \"Sell\"\n",
    "        \n",
    "        elif tickers_signal[ticker] == \"Buy\":\n",
    "            tickers_ret[ticker].append((ohlc_renko[ticker][\"Adj Close\"][i]/ohlc_renko[ticker][\"Adj Close\"][i-1])-1)\n",
    "            if ohlc_renko[ticker][\"bar_num\"][i]<=-2 and ohlc_renko[ticker][\"obv_slope\"][i]<-30: # reversing the trade if sell conditions are met.\n",
    "                tickers_signal[ticker] = \"Sell\"\n",
    "            elif ohlc_renko[ticker][\"bar_num\"][i]<2: # changing signal to no signal if exit conditions are met.\n",
    "                tickers_signal[ticker] = \"\"\n",
    "                \n",
    "        elif tickers_signal[ticker] == \"Sell\":\n",
    "            tickers_ret[ticker].append((ohlc_renko[ticker][\"Adj Close\"][i-1]/ohlc_renko[ticker][\"Adj Close\"][i])-1)\n",
    "            if ohlc_renko[ticker][\"bar_num\"][i]>=2 and ohlc_renko[ticker][\"obv_slope\"][i]>30: # reversing the trade if buy conditions are met.\n",
    "                tickers_signal[ticker] = \"Buy\"\n",
    "            elif ohlc_renko[ticker][\"bar_num\"][i]>-2: # changing signal to no signal if exit conditions are met.\n",
    "                tickers_signal[ticker] = \"\"\n",
    "    ohlc_renko[ticker][\"ret\"] = np.array(tickers_ret[ticker])"
   ]
  },
  {
   "cell_type": "markdown",
   "id": "d92c8bb0-af91-4da6-817b-bd34e7a0c8eb",
   "metadata": {},
   "source": [
    "## Calculating Overall Strategy's KPIs"
   ]
  },
  {
   "cell_type": "code",
   "execution_count": 53,
   "id": "b87af259-c353-4dd2-8e62-76b815f17c50",
   "metadata": {},
   "outputs": [],
   "source": [
    "strategy_df = pd.DataFrame()\n",
    "for ticker in tickers:\n",
    "    strategy_df[ticker] = ohlc_renko[ticker][\"ret\"]\n",
    "strategy_df[\"ret\"] = strategy_df.mean(axis=1)"
   ]
  },
  {
   "cell_type": "code",
   "execution_count": 54,
   "id": "00055498-fab3-471b-a4f7-cfc4358b6d2f",
   "metadata": {},
   "outputs": [
    {
     "name": "stdout",
     "output_type": "stream",
     "text": [
      "CAGR for the startegy was  0.01004542999446767\n",
      "Sharpe Ratio for strategy was  -0.10594846168865486\n",
      "Max Drawdown for strategy was  0.03968767966490683\n"
     ]
    }
   ],
   "source": [
    "print(\"CAGR for the startegy was \",CAGR(strategy_df))\n",
    "print(\"Sharpe Ratio for strategy was \",sharpe(strategy_df,0.025))\n",
    "print(\"Max Drawdown for strategy was \",max_dd(strategy_df)) "
   ]
  },
  {
   "cell_type": "markdown",
   "id": "88c3cdbd-2a2c-4948-8826-31b9cf3ea089",
   "metadata": {},
   "source": [
    "The KPIs show that this strategy is not that impressive at all. We have a negative sharpe ratio which is the first red flag. Also we have taken 3.9% drawdown for a CAGR of 0.1% which is not good risk to reward wise which is why the sharpe ratio is negative. 3.9% is a massive amount of drawdown to take considering we are just working on 1 month of backtest."
   ]
  },
  {
   "cell_type": "markdown",
   "id": "2646e052-b23c-4800-a920-88c27419c9b6",
   "metadata": {},
   "source": [
    "## Visualisation and Results"
   ]
  },
  {
   "cell_type": "code",
   "execution_count": 57,
   "id": "381be7db-cb04-4a08-8486-783383750db5",
   "metadata": {},
   "outputs": [
    {
     "data": {
      "text/plain": [
       "<function matplotlib.pyplot.show(close=None, block=None)>"
      ]
     },
     "execution_count": 57,
     "metadata": {},
     "output_type": "execute_result"
    },
    {
     "data": {
      "image/png": "[encoded data removed]",
      "text/plain": [
       "<Figure size 640x480 with 1 Axes>"
      ]
     },
     "metadata": {},
     "output_type": "display_data"
    }
   ],
   "source": [
    "(1+strategy_df[\"ret\"]).cumprod().plot()\n",
    "plt.xlabel(\"Date\")\n",
    "plt.ylabel(\"Cumulative Returns\")\n",
    "plt.title('Equity Growth Curve of 1 Dollar Invested in the Strategy')\n",
    "plt.show"
   ]
  },
  {
   "cell_type": "markdown",
   "id": "89a4b178-f8f9-4e58-a38a-70a1762ff235",
   "metadata": {},
   "source": [
    "We can see a lot of volatility in this strategy and the returns are very erratic. The strategy has potential to generate good returns but also manages to lose the profits quickly. Seems like we have to work on the exit strategy a bit more and refine it."
   ]
  },
  {
   "cell_type": "markdown",
   "id": "972319ed-efb2-45aa-809f-1c2b893190d2",
   "metadata": {},
   "source": [
    "## Calculating individual stock's KPIs"
   ]
  },
  {
   "cell_type": "code",
   "execution_count": 59,
   "id": "6d11bd00-e5ea-4b90-8976-e69f88daa72a",
   "metadata": {},
   "outputs": [
    {
     "data": {
      "text/html": [
       "<div>\n",
       "<style scoped>\n",
       "    .dataframe tbody tr th:only-of-type {\n",
       "        vertical-align: middle;\n",
       "    }\n",
       "\n",
       "    .dataframe tbody tr th {\n",
       "        vertical-align: top;\n",
       "    }\n",
       "\n",
       "    .dataframe thead th {\n",
       "        text-align: right;\n",
       "    }\n",
       "</style>\n",
       "<table border=\"1\" class=\"dataframe\">\n",
       "  <thead>\n",
       "    <tr style=\"text-align: right;\">\n",
       "      <th></th>\n",
       "      <th>Return</th>\n",
       "      <th>Sharpe Ratio</th>\n",
       "      <th>Max Drawdown</th>\n",
       "    </tr>\n",
       "  </thead>\n",
       "  <tbody>\n",
       "    <tr>\n",
       "      <th>MSFT</th>\n",
       "      <td>0.146972</td>\n",
       "      <td>0.675204</td>\n",
       "      <td>0.056486</td>\n",
       "    </tr>\n",
       "    <tr>\n",
       "      <th>AAPL</th>\n",
       "      <td>0.359998</td>\n",
       "      <td>1.189757</td>\n",
       "      <td>0.063095</td>\n",
       "    </tr>\n",
       "    <tr>\n",
       "      <th>META</th>\n",
       "      <td>-0.573444</td>\n",
       "      <td>-1.075842</td>\n",
       "      <td>0.203177</td>\n",
       "    </tr>\n",
       "    <tr>\n",
       "      <th>AMZN</th>\n",
       "      <td>0.877456</td>\n",
       "      <td>3.057205</td>\n",
       "      <td>0.059578</td>\n",
       "    </tr>\n",
       "    <tr>\n",
       "      <th>INTC</th>\n",
       "      <td>8.169896</td>\n",
       "      <td>16.624328</td>\n",
       "      <td>0.070526</td>\n",
       "    </tr>\n",
       "    <tr>\n",
       "      <th>CSCO</th>\n",
       "      <td>-0.132086</td>\n",
       "      <td>-1.132140</td>\n",
       "      <td>0.056793</td>\n",
       "    </tr>\n",
       "    <tr>\n",
       "      <th>VZ</th>\n",
       "      <td>-0.439180</td>\n",
       "      <td>-2.468541</td>\n",
       "      <td>0.100438</td>\n",
       "    </tr>\n",
       "    <tr>\n",
       "      <th>IBM</th>\n",
       "      <td>-0.878351</td>\n",
       "      <td>-2.923907</td>\n",
       "      <td>0.240188</td>\n",
       "    </tr>\n",
       "    <tr>\n",
       "      <th>TSLA</th>\n",
       "      <td>0.033311</td>\n",
       "      <td>0.012334</td>\n",
       "      <td>0.167692</td>\n",
       "    </tr>\n",
       "    <tr>\n",
       "      <th>AMD</th>\n",
       "      <td>-0.197577</td>\n",
       "      <td>-0.553020</td>\n",
       "      <td>0.156461</td>\n",
       "    </tr>\n",
       "  </tbody>\n",
       "</table>\n",
       "</div>"
      ],
      "text/plain": [
       "        Return  Sharpe Ratio  Max Drawdown\n",
       "MSFT  0.146972      0.675204      0.056486\n",
       "AAPL  0.359998      1.189757      0.063095\n",
       "META -0.573444     -1.075842      0.203177\n",
       "AMZN  0.877456      3.057205      0.059578\n",
       "INTC  8.169896     16.624328      0.070526\n",
       "CSCO -0.132086     -1.132140      0.056793\n",
       "VZ   -0.439180     -2.468541      0.100438\n",
       "IBM  -0.878351     -2.923907      0.240188\n",
       "TSLA  0.033311      0.012334      0.167692\n",
       "AMD  -0.197577     -0.553020      0.156461"
      ]
     },
     "execution_count": 59,
     "metadata": {},
     "output_type": "execute_result"
    }
   ],
   "source": [
    "cagr = {}\n",
    "sharpe_ratios = {}\n",
    "max_drawdown = {}\n",
    "for ticker in tickers:    \n",
    "    cagr[ticker] =  CAGR(ohlc_renko[ticker])\n",
    "    sharpe_ratios[ticker] =  sharpe(ohlc_renko[ticker],0.025)\n",
    "    max_drawdown[ticker] =  max_dd(ohlc_renko[ticker])\n",
    "\n",
    "KPI_df = pd.DataFrame([cagr,sharpe_ratios,max_drawdown],index=[\"Return\",\"Sharpe Ratio\",\"Max Drawdown\"])      \n",
    "KPI_df.T"
   ]
  },
  {
   "cell_type": "markdown",
   "id": "de5cfa95-8852-4eb4-852d-828a6260e8c6",
   "metadata": {},
   "source": [
    "We can see that the returns are very extreme, ie the positive returns are very good but the negative returns are just as worse. META and IBM gave very bad returns because there was a news event involved with them and they opened with a massive gap down on April 25."
   ]
  },
  {
   "cell_type": "code",
   "execution_count": null,
   "id": "402b1358-8c84-4d29-afa6-9e2cb20beac4",
   "metadata": {},
   "outputs": [],
   "source": []
  }
 ],
 "metadata": {
  "kernelspec": {
   "display_name": "Python 3 (ipykernel)",
   "language": "python",
   "name": "python3"
  },
  "language_info": {
   "codemirror_mode": {
    "name": "ipython",
    "version": 3
   },
   "file_extension": ".py",
   "mimetype": "text/x-python",
   "name": "python",
   "nbconvert_exporter": "python",
   "pygments_lexer": "ipython3",
   "version": "3.11.7"
  }
 },
 "nbformat": 4,
 "nbformat_minor": 5
}
