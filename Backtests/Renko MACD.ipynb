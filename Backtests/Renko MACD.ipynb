{
 "cells": [
  {
   "cell_type": "code",
   "execution_count": 1,
   "id": "d9c12f1f-0750-4814-a908-02a79b04c3b1",
   "metadata": {},
   "outputs": [],
   "source": [
    "import numpy as np\n",
    "import pandas as pd\n",
    "import matplotlib.pyplot as plt\n",
    "from stocktrends import Renko\n",
    "import statsmodels.api as sm\n",
    "import yfinance as yf\n",
    "import datetime as dt\n",
    "import copy\n",
    "import warnings\n",
    "warnings.filterwarnings(\"ignore\")"
   ]
  },
  {
   "cell_type": "markdown",
   "id": "8a3ef26b-d8c9-42cc-94fe-dd2a3c469777",
   "metadata": {},
   "source": [
    "## Utility Functions\n"
   ]
  },
  {
   "cell_type": "code",
   "execution_count": 2,
   "id": "12c773e8-a9e7-4136-bae1-06ad00fdb0ab",
   "metadata": {},
   "outputs": [],
   "source": [
    "def ATR(DF,n):\n",
    "    \"function to calculate True Range and Average True Range\"\n",
    "    df = DF.copy()\n",
    "    df['H-L']=abs(df['High']-df['Low'])\n",
    "    df['H-PC']=abs(df['High']-df['Adj Close'].shift(1))\n",
    "    df['L-PC']=abs(df['Low']-df['Adj Close'].shift(1))\n",
    "    df['TR']=df[['H-L','H-PC','L-PC']].max(axis=1,skipna=False)\n",
    "    df['ATR'] = df['TR'].rolling(n).mean()\n",
    "    #df['ATR'] = df['TR'].ewm(span=n,adjust=False,min_periods=n).mean()\n",
    "    df2 = df.drop(['H-L','H-PC','L-PC'],axis=1)\n",
    "    return df2\n",
    "\n",
    "def slope(ser,n):\n",
    "    \"function to calculate the slope of n consecutive points on a plot\"\n",
    "    slopes = [i*0 for i in range(n-1)]\n",
    "    for i in range(n,len(ser)+1):\n",
    "        y = ser[i-n:i]\n",
    "        x = np.array(range(n))\n",
    "        y_scaled = (y - y.min())/(y.max() - y.min())\n",
    "        x_scaled = (x - x.min())/(x.max() - x.min())\n",
    "        x_scaled = sm.add_constant(x_scaled)\n",
    "        model = sm.OLS(y_scaled,x_scaled)\n",
    "        results = model.fit()\n",
    "        slopes.append(results.params[-1])\n",
    "    slope_angle = (np.rad2deg(np.arctan(np.array(slopes))))\n",
    "    return np.array(slope_angle)\n",
    "\n",
    "def renko_DF(DF):\n",
    "    \"function to convert ohlc data into renko bricks\"\n",
    "    df = DF.copy()\n",
    "    df.reset_index(inplace=True)\n",
    "    df = df.iloc[:,[0,1,2,3,4,5]]\n",
    "    df.columns = [\"date\",\"open\",\"high\",\"low\",\"close\",\"volume\"]\n",
    "    df2 = Renko(df)\n",
    "    df2.brick_size = max(0.5,round(ATR(DF,120)[\"ATR\"][-1],0))\n",
    "    renko_df = df2.get_ohlc_data()\n",
    "    renko_df[\"bar_num\"] = np.where(renko_df[\"uptrend\"]==True,1,np.where(renko_df[\"uptrend\"]==False,-1,0))\n",
    "    for i in range(1,len(renko_df[\"bar_num\"])):\n",
    "        if renko_df[\"bar_num\"][i]>0 and renko_df[\"bar_num\"][i-1]>0:\n",
    "            renko_df[\"bar_num\"][i]+=renko_df[\"bar_num\"][i-1]\n",
    "        elif renko_df[\"bar_num\"][i]<0 and renko_df[\"bar_num\"][i-1]<0:\n",
    "            renko_df[\"bar_num\"][i]+=renko_df[\"bar_num\"][i-1]\n",
    "    renko_df.drop_duplicates(subset=\"date\",keep=\"last\",inplace=True)\n",
    "    return renko_df\n",
    "\n",
    "def MACD(DF,a=12,b=26,c=9):\n",
    "    \"function to generate macd and signal line\"\n",
    "    df=DF.copy()\n",
    "    df['ma_fast']= df['Adj Close'].ewm(span=a, min_periods=a).mean()\n",
    "    df['ma_slow']=df['Adj Close'].ewm(span=b, min_periods=b).mean()\n",
    "    df['macd']=df['ma_fast']-df['ma_slow']\n",
    "    df['signal']=df['macd'].ewm(span=c,min_periods=c).mean()\n",
    "    return df.loc[:,['macd','signal']]\n",
    "\n",
    "def CAGR(DF):\n",
    "    \"function to calculate the Cumulative Annual Growth Rate of a trading strategy\"\n",
    "    df = DF.copy()\n",
    "    df[\"cum_return\"] = (1 + df[\"ret\"]).cumprod()\n",
    "    n = len(df)/(252*78)\n",
    "    CAGR = (df[\"cum_return\"].tolist()[-1])**(1/n) - 1\n",
    "    return CAGR\n",
    "\n",
    "def volatility(DF):\n",
    "    \"function to calculate annualized volatility of a trading strategy\"\n",
    "    df = DF.copy()\n",
    "    vol = df[\"ret\"].std() * np.sqrt(252*78)\n",
    "    return vol\n",
    "\n",
    "def sharpe(DF,rf):\n",
    "    \"function to calculate sharpe ratio ; rf is the risk free rate\"\n",
    "    df = DF.copy()\n",
    "    sr = (CAGR(df) - rf)/volatility(df)\n",
    "    return sr\n",
    "    \n",
    "\n",
    "def max_dd(DF):\n",
    "    \"function to calculate max drawdown\"\n",
    "    df = DF.copy()\n",
    "    df[\"cum_return\"] = (1 + df[\"ret\"]).cumprod()\n",
    "    df[\"cum_roll_max\"] = df[\"cum_return\"].cummax()\n",
    "    df[\"drawdown\"] = df[\"cum_roll_max\"] - df[\"cum_return\"]\n",
    "    df[\"drawdown_pct\"] = df[\"drawdown\"]/df[\"cum_roll_max\"]\n",
    "    max_dd = df[\"drawdown_pct\"].max()\n",
    "    return max_dd"
   ]
  },
  {
   "cell_type": "markdown",
   "id": "fbe321da-b646-4214-ac3f-62dabe40ea82",
   "metadata": {},
   "source": [
    "## Getting Stock data\n",
    "We are mainly focusing on stocks which see a lot of day to day action, ie. mostly tech stocks which have high trading volumes daily."
   ]
  },
  {
   "cell_type": "code",
   "execution_count": 3,
   "id": "316183fa-bac6-490f-86f7-c106fc109c74",
   "metadata": {},
   "outputs": [
    {
     "name": "stderr",
     "output_type": "stream",
     "text": [
      "[*********************100%%**********************]  1 of 1 completed\n",
      "[*********************100%%**********************]  1 of 1 completed\n",
      "[*********************100%%**********************]  1 of 1 completed\n",
      "[*********************100%%**********************]  1 of 1 completed\n",
      "[*********************100%%**********************]  1 of 1 completed\n",
      "[*********************100%%**********************]  1 of 1 completed\n",
      "[*********************100%%**********************]  1 of 1 completed\n",
      "[*********************100%%**********************]  1 of 1 completed\n",
      "[*********************100%%**********************]  1 of 1 completed\n",
      "[*********************100%%**********************]  1 of 1 completed\n"
     ]
    }
   ],
   "source": [
    "tickers = [\"MSFT\", \"AAPL\", \"META\", \"AMZN\", \"INTC\", \"CSCO\", \"VZ\", \"IBM\", \"TSLA\", \"AMD\"]\n",
    "ohlc_intraday = {}  # Dictionary to store OHLC data for each stock\n",
    "\n",
    "# Define start and end dates for data retrieval\n",
    "end_date = dt.datetime.today()\n",
    "start_date = end_date - dt.timedelta(37)  # Fetch data for at least 36 days\n",
    "\n",
    "# Loop over tickers and retrieve intraday OHLC data\n",
    "for ticker in tickers:\n",
    "    ohlc_intraday[ticker] = yf.download(ticker, start=start_date, end=end_date, interval='5m')\n",
    "    ohlc_intraday[ticker].dropna(inplace=True, how=\"all\")\n",
    "\n",
    "# Adjust datetime index to UTC timezone for consistency\n",
    "for ticker in tickers:\n",
    "    ohlc_intraday[ticker].index = ohlc_intraday[ticker].index.tz_convert('UTC')\n",
    "\n",
    "# Redefine tickers variable after removing any tickers with corrupted data\n",
    "tickers = ohlc_intraday.keys() "
   ]
  },
  {
   "cell_type": "markdown",
   "id": "3dcb3101-bd5c-4502-93d6-b48fffeab56e",
   "metadata": {},
   "source": [
    "## Processing\n",
    "We merge the information from renko and macd into our stock dataframe. Since we only need the bar close information from renko we'll only integrate that column as all the other data columns are same. macd function will add macd and signal columns with their respective value into our dataframe. We will also initialise the ticker signal and ticker return dictionary which will be used later in generating signals and returns for each ticker."
   ]
  },
  {
   "cell_type": "code",
   "execution_count": 5,
   "id": "c1d6e4a5-a6f8-423a-831e-a8c2ce85eeaf",
   "metadata": {},
   "outputs": [],
   "source": [
    "df = copy.deepcopy(ohlc_intraday)"
   ]
  },
  {
   "cell_type": "code",
   "execution_count": 6,
   "id": "cf0d9174-db2b-4a31-9ec3-f51b3b517611",
   "metadata": {},
   "outputs": [],
   "source": [
    "tickers_signal = {}\n",
    "tickers_ret = {}\n",
    "for ticker in tickers:\n",
    "    renko = renko_DF(df[ticker])\n",
    "    renko.set_index('date',inplace = True) # Converting the date from column to index to match df[ticker] \n",
    "    df[ticker]['bar_num'] = renko['bar_num'] # Adding renko to our data\n",
    "    ohlc_renko = df\n",
    "    ohlc_renko[ticker][\"bar_num\"].fillna(method='ffill',inplace=True)\n",
    "    ohlc_renko[ticker][['macd','signal']] = MACD(ohlc_renko[ticker])[['macd','signal']] # Adding macd and signal to our data\n",
    "    ohlc_renko[ticker][\"macd_slope\"] = slope(ohlc_renko[ticker][\"macd\"],5)\n",
    "    ohlc_renko[ticker]['signal_slope'] = slope(ohlc_renko[ticker]['signal'],5)\n",
    "    tickers_signal[ticker] = \"\"\n",
    "    tickers_ret[ticker] = []"
   ]
  },
  {
   "cell_type": "markdown",
   "id": "1037e663-6db1-4b30-9a8e-fddc05b317de",
   "metadata": {},
   "source": [
    "## Backtesting\n",
    "The algorithm will be monitoring all the stocks candle by candle and if our criterias are met at a particular candle, the algorithm will place a buy/sell order along with a pre set criteria to close the position.\n",
    "#### Strategy Rules\n",
    "BUY SIGNAL\n",
    "1. Renko bar greater than or equal to 2.\n",
    "2. macd line is above the signal line.\n",
    "3. macd line's slope is greater than signal line's slope.\n",
    "4. Exit when macd line goes below the signal line and macd line's slope is lower than signal line's slope.\n",
    "\n",
    "SELL SIGNAL\n",
    "1. Renko bar less than or equal to -2.\n",
    "2. macd line is below signal line.\n",
    "3. macd line's slope is less than signal line's slope\n",
    "4. Exit when macd line goes above the signal line and macd line's slope is greater than signal line's slope.\n"
   ]
  },
  {
   "cell_type": "code",
   "execution_count": 7,
   "id": "9e22fed1-6c13-484f-b848-20a630c1a62e",
   "metadata": {},
   "outputs": [],
   "source": [
    "#Identifying signals and calculating  return\n",
    "for ticker in tickers:\n",
    "    for i in range(len(ohlc_intraday[ticker])):\n",
    "        if tickers_signal[ticker] == \"\":\n",
    "            tickers_ret[ticker].append(0)\n",
    "            if ohlc_renko[ticker][\"bar_num\"][i]>=2 and ohlc_renko[ticker][\"macd\"][i]>ohlc_renko[ticker]['signal'][i] and \\\n",
    "            ohlc_renko[ticker]['macd_slope'][i]>ohlc_renko[ticker]['signal_slope'][i]: # Sending buy signal if buy conditions are met.\n",
    "                tickers_signal[ticker] = \"Buy\"\n",
    "            elif ohlc_renko[ticker][\"bar_num\"][i]<=-2 and ohlc_renko[ticker][\"macd\"][i]<ohlc_renko[ticker]['signal'][i] and \\\n",
    "            ohlc_renko[ticker]['macd_slope'][i]<ohlc_renko[ticker]['signal_slope'][i]: # sending sell signal if sell conditions are met.\n",
    "                tickers_signal[ticker] = \"Sell\"\n",
    "        \n",
    "        elif tickers_signal[ticker] == \"Buy\":\n",
    "            tickers_ret[ticker].append((ohlc_renko[ticker][\"Adj Close\"][i]/ohlc_renko[ticker][\"Adj Close\"][i-1])-1)\n",
    "            if ohlc_renko[ticker][\"bar_num\"][i]<=-2 and ohlc_renko[ticker][\"macd\"][i]<ohlc_renko[ticker]['signal'][i] and \\\n",
    "            ohlc_renko[ticker]['macd_slope'][i]<ohlc_renko[ticker]['signal_slope'][i]: # reversing the trade if sell conditions are met.\n",
    "                tickers_signal[ticker] = \"Sell\"\n",
    "            elif ohlc_renko[ticker][\"macd\"][i]<ohlc_renko[ticker]['signal'][i] and  \\\n",
    "            ohlc_renko[ticker]['macd_slope'][i]<ohlc_renko[ticker]['signal_slope'][i]: # changing signal to no signal if exit conditions are met.\n",
    "                tickers_signal[ticker] = \"\"\n",
    "                \n",
    "        elif tickers_signal[ticker] == \"Sell\":\n",
    "            tickers_ret[ticker].append((ohlc_renko[ticker][\"Adj Close\"][i-1]/ohlc_renko[ticker][\"Adj Close\"][i])-1)\n",
    "            if ohlc_renko[ticker][\"bar_num\"][i]>=2 and ohlc_renko[ticker][\"macd\"][i]>ohlc_renko[ticker]['signal'][i] and \\\n",
    "            ohlc_renko[ticker]['macd_slope'][i]>ohlc_renko[ticker]['signal_slope'][i]: # reversing the trade if buy conditions are met.\n",
    "                tickers_signal[ticker] = \"Buy\"\n",
    "            elif ohlc_renko[ticker][\"macd\"][i]>ohlc_renko[ticker]['signal'][i] and \\\n",
    "            ohlc_renko[ticker]['macd_slope'][i]>ohlc_renko[ticker]['signal_slope'][i]: # changing signal to no signal if exit conditions are met.\n",
    "                tickers_signal[ticker] = \"\"\n",
    "    ohlc_renko[ticker][\"ret\"] = np.array(tickers_ret[ticker])"
   ]
  },
  {
   "cell_type": "markdown",
   "id": "d92c8bb0-af91-4da6-817b-bd34e7a0c8eb",
   "metadata": {},
   "source": [
    "## Calculating Overall Strategy's KPIs"
   ]
  },
  {
   "cell_type": "code",
   "execution_count": 8,
   "id": "b87af259-c353-4dd2-8e62-76b815f17c50",
   "metadata": {},
   "outputs": [],
   "source": [
    "strategy_df = pd.DataFrame()\n",
    "for ticker in tickers:\n",
    "    strategy_df[ticker] = ohlc_renko[ticker][\"ret\"]\n",
    "strategy_df[\"ret\"] = strategy_df.mean(axis=1)"
   ]
  },
  {
   "cell_type": "code",
   "execution_count": 9,
   "id": "00055498-fab3-471b-a4f7-cfc4358b6d2f",
   "metadata": {},
   "outputs": [
    {
     "name": "stdout",
     "output_type": "stream",
     "text": [
      "CAGR for the startegy was  0.027656578348410843\n",
      "Sharpe Ratio for strategy was  0.022764240546624383\n",
      "Max Drawdown for strategy was  0.04116362876322031\n"
     ]
    }
   ],
   "source": [
    "print(\"CAGR for the startegy was \",CAGR(strategy_df))\n",
    "print(\"Sharpe Ratio for strategy was \",sharpe(strategy_df,0.025))\n",
    "print(\"Max Drawdown for strategy was \",max_dd(strategy_df)) "
   ]
  },
  {
   "cell_type": "markdown",
   "id": "88c3cdbd-2a2c-4948-8826-31b9cf3ea089",
   "metadata": {},
   "source": [
    "This strategy gave a positive CAGR of 2.8% which is not much considering the fact that we took a drawdown of 4.1% so we practically took greater risk than the reward we got. Also CAGR of 2.8% feels measely when we take into account a risk free rate of 2.5% in government gold bonds. So we don't really have an edge with this startegy and investing in bonds is better than this strategy but let's see if we can improve it further."
   ]
  },
  {
   "cell_type": "markdown",
   "id": "2646e052-b23c-4800-a920-88c27419c9b6",
   "metadata": {},
   "source": [
    "## Visualisation and Results"
   ]
  },
  {
   "cell_type": "code",
   "execution_count": 10,
   "id": "381be7db-cb04-4a08-8486-783383750db5",
   "metadata": {},
   "outputs": [
    {
     "data": {
      "text/plain": [
       "<function matplotlib.pyplot.show(close=None, block=None)>"
      ]
     },
     "execution_count": 10,
     "metadata": {},
     "output_type": "execute_result"
    },
    {
     "data": {
      "image/png": "[encoded data removed]",
      "text/plain": [
       "<Figure size 640x480 with 1 Axes>"
      ]
     },
     "metadata": {},
     "output_type": "display_data"
    }
   ],
   "source": [
    "(1+strategy_df[\"ret\"]).cumprod().plot()\n",
    "plt.xlabel(\"Date\")\n",
    "plt.ylabel(\"Cumulative Returns\")\n",
    "plt.title('Equity Growth Curve of 1 Dollar Invested in the Strategy')\n",
    "plt.show"
   ]
  },
  {
   "cell_type": "markdown",
   "id": "89a4b178-f8f9-4e58-a38a-70a1762ff235",
   "metadata": {},
   "source": [
    "We can see a lot of volatility in this strategy and the returns are very erratic. The strategy has potential to generate good returns but we can observe that from 9th April to 1st May the strategy returns were in a big downtrend and they kind of recovered towards the end of backtesting period. Seems like we have to figure out what went down between this period."
   ]
  },
  {
   "cell_type": "markdown",
   "id": "972319ed-efb2-45aa-809f-1c2b893190d2",
   "metadata": {},
   "source": [
    "## Calculating individual stock's KPIs"
   ]
  },
  {
   "cell_type": "code",
   "execution_count": 11,
   "id": "6d11bd00-e5ea-4b90-8976-e69f88daa72a",
   "metadata": {},
   "outputs": [
    {
     "data": {
      "text/html": [
       "<div>\n",
       "<style scoped>\n",
       "    .dataframe tbody tr th:only-of-type {\n",
       "        vertical-align: middle;\n",
       "    }\n",
       "\n",
       "    .dataframe tbody tr th {\n",
       "        vertical-align: top;\n",
       "    }\n",
       "\n",
       "    .dataframe thead th {\n",
       "        text-align: right;\n",
       "    }\n",
       "</style>\n",
       "<table border=\"1\" class=\"dataframe\">\n",
       "  <thead>\n",
       "    <tr style=\"text-align: right;\">\n",
       "      <th></th>\n",
       "      <th>Return</th>\n",
       "      <th>Sharpe Ratio</th>\n",
       "      <th>Max Drawdown</th>\n",
       "    </tr>\n",
       "  </thead>\n",
       "  <tbody>\n",
       "    <tr>\n",
       "      <th>MSFT</th>\n",
       "      <td>-0.066928</td>\n",
       "      <td>-0.489512</td>\n",
       "      <td>0.060992</td>\n",
       "    </tr>\n",
       "    <tr>\n",
       "      <th>AAPL</th>\n",
       "      <td>0.519597</td>\n",
       "      <td>1.823438</td>\n",
       "      <td>0.059163</td>\n",
       "    </tr>\n",
       "    <tr>\n",
       "      <th>META</th>\n",
       "      <td>-0.862826</td>\n",
       "      <td>-1.552668</td>\n",
       "      <td>0.274142</td>\n",
       "    </tr>\n",
       "    <tr>\n",
       "      <th>AMZN</th>\n",
       "      <td>0.134414</td>\n",
       "      <td>0.418088</td>\n",
       "      <td>0.059213</td>\n",
       "    </tr>\n",
       "    <tr>\n",
       "      <th>INTC</th>\n",
       "      <td>2.247186</td>\n",
       "      <td>4.358966</td>\n",
       "      <td>0.084296</td>\n",
       "    </tr>\n",
       "    <tr>\n",
       "      <th>CSCO</th>\n",
       "      <td>-0.334927</td>\n",
       "      <td>-3.318797</td>\n",
       "      <td>0.054085</td>\n",
       "    </tr>\n",
       "    <tr>\n",
       "      <th>VZ</th>\n",
       "      <td>-0.167194</td>\n",
       "      <td>-1.348674</td>\n",
       "      <td>0.047527</td>\n",
       "    </tr>\n",
       "    <tr>\n",
       "      <th>IBM</th>\n",
       "      <td>-0.387518</td>\n",
       "      <td>-2.650414</td>\n",
       "      <td>0.101047</td>\n",
       "    </tr>\n",
       "    <tr>\n",
       "      <th>TSLA</th>\n",
       "      <td>3.205779</td>\n",
       "      <td>6.711581</td>\n",
       "      <td>0.072481</td>\n",
       "    </tr>\n",
       "    <tr>\n",
       "      <th>AMD</th>\n",
       "      <td>-0.253161</td>\n",
       "      <td>-0.777155</td>\n",
       "      <td>0.167075</td>\n",
       "    </tr>\n",
       "  </tbody>\n",
       "</table>\n",
       "</div>"
      ],
      "text/plain": [
       "        Return  Sharpe Ratio  Max Drawdown\n",
       "MSFT -0.066928     -0.489512      0.060992\n",
       "AAPL  0.519597      1.823438      0.059163\n",
       "META -0.862826     -1.552668      0.274142\n",
       "AMZN  0.134414      0.418088      0.059213\n",
       "INTC  2.247186      4.358966      0.084296\n",
       "CSCO -0.334927     -3.318797      0.054085\n",
       "VZ   -0.167194     -1.348674      0.047527\n",
       "IBM  -0.387518     -2.650414      0.101047\n",
       "TSLA  3.205779      6.711581      0.072481\n",
       "AMD  -0.253161     -0.777155      0.167075"
      ]
     },
     "execution_count": 11,
     "metadata": {},
     "output_type": "execute_result"
    }
   ],
   "source": [
    "cagr = {}\n",
    "sharpe_ratios = {}\n",
    "max_drawdown = {}\n",
    "for ticker in tickers:    \n",
    "    cagr[ticker] =  CAGR(ohlc_renko[ticker])\n",
    "    sharpe_ratios[ticker] =  sharpe(ohlc_renko[ticker],0.025)\n",
    "    max_drawdown[ticker] =  max_dd(ohlc_renko[ticker])\n",
    "\n",
    "KPI_df = pd.DataFrame([cagr,sharpe_ratios,max_drawdown],index=[\"Return\",\"Sharpe Ratio\",\"Max Drawdown\"])      \n",
    "KPI_df.T"
   ]
  },
  {
   "cell_type": "markdown",
   "id": "de5cfa95-8852-4eb4-852d-828a6260e8c6",
   "metadata": {},
   "source": [
    "We can see that the returns are very extreme, ie the positive returns are very good but the negative returns are just as worse."
   ]
  }
 ],
 "metadata": {
  "kernelspec": {
   "display_name": "Python 3 (ipykernel)",
   "language": "python",
   "name": "python3"
  },
  "language_info": {
   "codemirror_mode": {
    "name": "ipython",
    "version": 3
   },
   "file_extension": ".py",
   "mimetype": "text/x-python",
   "name": "python",
   "nbconvert_exporter": "python",
   "pygments_lexer": "ipython3",
   "version": "3.11.7"
  }
 },
 "nbformat": 4,
 "nbformat_minor": 5
}
