{
 "cells": [
  {
   "cell_type": "code",
   "execution_count": 1,
   "id": "770e48c2",
   "metadata": {},
   "outputs": [
    {
     "name": "stdout",
     "output_type": "stream",
     "text": [
      "[*********************100%%**********************]  1 of 1 completed\n",
      "[*********************100%%**********************]  1 of 1 completed\n",
      "[*********************100%%**********************]  1 of 1 completed\n"
     ]
    }
   ],
   "source": [
    "import yfinance as yf\n",
    "tickers = [\"AMZN\",'GOOG','MSFT']\n",
    "ohlcv_data={}\n",
    "for ticker in tickers:\n",
    "    temp=yf.download(ticker,period='7mo',interval='1d')\n",
    "    temp.dropna(how = 'any',inplace=True)\n",
    "    ohlcv_data[ticker] = temp"
   ]
  },
  {
   "cell_type": "code",
   "execution_count": 11,
   "id": "d59ae31a",
   "metadata": {},
   "outputs": [],
   "source": [
    "def max_dd(DF):\n",
    "    df=DF.copy()\n",
    "    df['return'] = df['Adj Close'].pct_change()\n",
    "    df['cum_return'] = (1+df['return']).cumprod()\n",
    "    df['cum_roll_max'] = df['cum_return'].cummax()\n",
    "    df['drawdown'] = df['cum_roll_max'] - df['cum_return']\n",
    "    return (df['drawdown']/df['cum_roll_max']).max()"
   ]
  },
  {
   "cell_type": "code",
   "execution_count": 17,
   "id": "2630b6ad",
   "metadata": {},
   "outputs": [],
   "source": [
    "def CAGR(DF):\n",
    "    df=DF.copy()\n",
    "    df['return'] = df['Adj Close'].pct_change()\n",
    "    df['cum_return']=(1+df['return']).cumprod()\n",
    "    n = len(df)/252\n",
    "    CAGR = (df['cum_return'][-1])**(1/n) - 1\n",
    "    return CAGR"
   ]
  },
  {
   "cell_type": "code",
   "execution_count": 20,
   "id": "dd6b7f2a",
   "metadata": {},
   "outputs": [],
   "source": [
    "def calmar(DF):\n",
    "    df = DF.copy()\n",
    "    return CAGR(df)/max_dd(df)"
   ]
  },
  {
   "cell_type": "code",
   "execution_count": 21,
   "id": "de2a528d",
   "metadata": {},
   "outputs": [
    {
     "name": "stdout",
     "output_type": "stream",
     "text": [
      "Max Drawdown of AMZN = 0.17452540796322236\n",
      "Calmar Ratio of AMZN = 3.880099012877653\n",
      "Max Drawdown of GOOG = 0.1291460537507814\n",
      "Calmar Ratio of GOOG = 4.332084038886347\n",
      "Max Drawdown of MSFT = 0.12987603604138095\n",
      "Calmar Ratio of MSFT = 4.852008601922043\n"
     ]
    }
   ],
   "source": [
    "for ticker in ohlcv_data:\n",
    "    print(\"Max Drawdown of {} = {}\".format(ticker,max_dd(ohlcv_data[ticker]))) \n",
    "    print(\"Calmar Ratio of {} = {}\".format(ticker,calmar(ohlcv_data[ticker])))"
   ]
  },
  {
   "cell_type": "code",
   "execution_count": null,
   "id": "370fc6a2",
   "metadata": {},
   "outputs": [],
   "source": []
  }
 ],
 "metadata": {
  "kernelspec": {
   "display_name": "Python 3 (ipykernel)",
   "language": "python",
   "name": "python3"
  },
  "language_info": {
   "codemirror_mode": {
    "name": "ipython",
    "version": 3
   },
   "file_extension": ".py",
   "mimetype": "text/x-python",
   "name": "python",
   "nbconvert_exporter": "python",
   "pygments_lexer": "ipython3",
   "version": "3.11.5"
  }
 },
 "nbformat": 4,
 "nbformat_minor": 5
}
