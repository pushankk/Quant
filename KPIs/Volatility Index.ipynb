{
 "cells": [
  {
   "cell_type": "code",
   "execution_count": 6,
   "id": "02e72ec8",
   "metadata": {},
   "outputs": [
    {
     "name": "stdout",
     "output_type": "stream",
     "text": [
      "[*********************100%%**********************]  1 of 1 completed\n",
      "[*********************100%%**********************]  1 of 1 completed\n",
      "[*********************100%%**********************]  1 of 1 completed\n"
     ]
    }
   ],
   "source": [
    "import numpy as np\n",
    "import yfinance as yf\n",
    "tickers = [\"AMZN\",'GOOG','MSFT']\n",
    "ohlcv_data={}\n",
    "for ticker in tickers:\n",
    "    temp=yf.download(ticker,period='7mo',interval='1d')\n",
    "    temp.dropna(how = 'any',inplace=True)\n",
    "    ohlcv_data[ticker] = temp"
   ]
  },
  {
   "cell_type": "code",
   "execution_count": 7,
   "id": "92832ccb",
   "metadata": {},
   "outputs": [],
   "source": [
    "def volatility(DF):\n",
    "    df = DF.copy()\n",
    "    df['return'] = df['Adj Close'].pct_change()\n",
    "    vol = df['return'].std()*np.sqrt(252)\n",
    "    return vol"
   ]
  },
  {
   "cell_type": "code",
   "execution_count": 8,
   "id": "a03e8a06",
   "metadata": {},
   "outputs": [
    {
     "name": "stdout",
     "output_type": "stream",
     "text": [
      "Volatility of AMZN:0.32783415322362985\n",
      "Volatility of GOOG:0.2765050181180738\n",
      "Volatility of MSFT:0.24370430153093667\n"
     ]
    }
   ],
   "source": [
    "for ticker in ohlcv_data:\n",
    "    print(\"Volatility of {}:{}\".format(ticker,volatility(ohlcv_data[ticker])))"
   ]
  },
  {
   "cell_type": "code",
   "execution_count": null,
   "id": "4ba63d69",
   "metadata": {},
   "outputs": [],
   "source": []
  }
 ],
 "metadata": {
  "kernelspec": {
   "display_name": "Python 3 (ipykernel)",
   "language": "python",
   "name": "python3"
  },
  "language_info": {
   "codemirror_mode": {
    "name": "ipython",
    "version": 3
   },
   "file_extension": ".py",
   "mimetype": "text/x-python",
   "name": "python",
   "nbconvert_exporter": "python",
   "pygments_lexer": "ipython3",
   "version": "3.11.5"
  }
 },
 "nbformat": 4,
 "nbformat_minor": 5
}
