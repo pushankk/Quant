{
 "cells": [
  {
   "cell_type": "code",
   "execution_count": 11,
   "id": "1ee1c91f",
   "metadata": {},
   "outputs": [
    {
     "name": "stdout",
     "output_type": "stream",
     "text": [
      "[*********************100%%**********************]  1 of 1 completed\n",
      "[*********************100%%**********************]  1 of 1 completed\n",
      "[*********************100%%**********************]  1 of 1 completed\n"
     ]
    }
   ],
   "source": [
    "import numpy as np\n",
    "import yfinance as yf\n",
    "import pandas as pd\n",
    "tickers = [\"AMZN\",'GOOG','MSFT']\n",
    "ohlcv_data={}\n",
    "for ticker in tickers:\n",
    "    temp=yf.download(ticker,period='7mo',interval='1d')\n",
    "    temp.dropna(how = 'any',inplace=True)\n",
    "    ohlcv_data[ticker] = temp"
   ]
  },
  {
   "cell_type": "code",
   "execution_count": 2,
   "id": "db6ddcd9",
   "metadata": {},
   "outputs": [],
   "source": [
    "def CAGR(DF):\n",
    "    df=DF.copy()\n",
    "    df['return'] = df['Adj Close'].pct_change()\n",
    "    df['cum_return']=(1+df['return']).cumprod()\n",
    "    n = len(df)/252\n",
    "    CAGR = (df['cum_return'][-1])**(1/n) - 1\n",
    "    return CAGR\n",
    "\n",
    "def volatility(DF):\n",
    "    df = DF.copy()\n",
    "    df['return'] = df['Adj Close'].pct_change()\n",
    "    vol = df['return'].std()*np.sqrt(252)\n",
    "    return vol"
   ]
  },
  {
   "cell_type": "code",
   "execution_count": 4,
   "id": "1c95e14a",
   "metadata": {},
   "outputs": [],
   "source": [
    "def sharpe(DF,rf):\n",
    "    df = DF.copy()\n",
    "    return (CAGR(df)-rf)/volatility(df)"
   ]
  },
  {
   "cell_type": "code",
   "execution_count": 9,
   "id": "ac1ddf82",
   "metadata": {},
   "outputs": [],
   "source": [
    "def sortino(DF,rf):\n",
    "    df=DF.copy()\n",
    "    df['return'] = df['Adj Close'].pct_change()\n",
    "    neg_return = np.where(df['return']>0,0,df['return'])\n",
    "    neg_vol = pd.Series(neg_return[neg_return!=0]).std()\n",
    "    return (CAGR(df) - rf)/neg_vol"
   ]
  },
  {
   "cell_type": "code",
   "execution_count": 12,
   "id": "28cdc84f",
   "metadata": {},
   "outputs": [
    {
     "name": "stdout",
     "output_type": "stream",
     "text": [
      "Sharpe for AMZN = 1.9745730997737536\n",
      "Sortino for AMZN = 50.68559559615306\n",
      "Sharpe for GOOG = 1.903066680584438\n",
      "Sortino for GOOG = 38.381873735313846\n",
      "Sharpe for MSFT = 2.4403503023455015\n",
      "Sortino for MSFT = 67.11083694700409\n"
     ]
    }
   ],
   "source": [
    "for ticker in ohlcv_data:\n",
    "    print(\"Sharpe for {} = {}\".format(ticker,sharpe(ohlcv_data[ticker],0.03)))\n",
    "    print(\"Sortino for {} = {}\".format(ticker,sortino(ohlcv_data[ticker],0.03)))"
   ]
  }
 ],
 "metadata": {
  "kernelspec": {
   "display_name": "Python 3 (ipykernel)",
   "language": "python",
   "name": "python3"
  },
  "language_info": {
   "codemirror_mode": {
    "name": "ipython",
    "version": 3
   },
   "file_extension": ".py",
   "mimetype": "text/x-python",
   "name": "python",
   "nbconvert_exporter": "python",
   "pygments_lexer": "ipython3",
   "version": "3.11.5"
  }
 },
 "nbformat": 4,
 "nbformat_minor": 5
}
