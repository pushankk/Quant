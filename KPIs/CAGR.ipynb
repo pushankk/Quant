{
 "cells": [
  {
   "cell_type": "code",
   "execution_count": 1,
   "id": "d48a2991",
   "metadata": {},
   "outputs": [
    {
     "name": "stdout",
     "output_type": "stream",
     "text": [
      "[*********************100%%**********************]  1 of 1 completed\n",
      "[*********************100%%**********************]  1 of 1 completed\n",
      "[*********************100%%**********************]  1 of 1 completed\n"
     ]
    }
   ],
   "source": [
    "import yfinance as yf\n",
    "tickers = [\"AMZN\",'GOOG','MSFT']\n",
    "ohlcv_data={}\n",
    "for ticker in tickers:\n",
    "    temp=yf.download(ticker,period='7mo',interval='1d')\n",
    "    temp.dropna(how = 'any',inplace=True)\n",
    "    ohlcv_data[ticker] = temp"
   ]
  },
  {
   "cell_type": "code",
   "execution_count": 9,
   "id": "e3db9f91",
   "metadata": {},
   "outputs": [],
   "source": [
    "def CAGR(DF):\n",
    "    df=DF.copy()\n",
    "    df['return'] = df['Adj Close'].pct_change()\n",
    "    df['cum_return']=(1+df['return']).cumprod()\n",
    "    n = len(df)/252\n",
    "    CAGR = (df['cum_return'][-1])**(1/n) - 1\n",
    "    return CAGR"
   ]
  },
  {
   "cell_type": "code",
   "execution_count": 10,
   "id": "5ff3f095",
   "metadata": {},
   "outputs": [
    {
     "name": "stdout",
     "output_type": "stream",
     "text": [
      "CAGR for AMZN= 0.8005794426432498\n",
      "CAGR for GOOG= 0.5593354265988064\n",
      "CAGR for MSFT= 0.5352625865631211\n"
     ]
    }
   ],
   "source": [
    "for ticker in ohlcv_data:\n",
    "    print(\"CAGR for {}= {}\".format(ticker,CAGR(ohlcv_data[ticker])))"
   ]
  }
 ],
 "metadata": {
  "kernelspec": {
   "display_name": "Python 3 (ipykernel)",
   "language": "python",
   "name": "python3"
  },
  "language_info": {
   "codemirror_mode": {
    "name": "ipython",
    "version": 3
   },
   "file_extension": ".py",
   "mimetype": "text/x-python",
   "name": "python",
   "nbconvert_exporter": "python",
   "pygments_lexer": "ipython3",
   "version": "3.11.5"
  }
 },
 "nbformat": 4,
 "nbformat_minor": 5
}
