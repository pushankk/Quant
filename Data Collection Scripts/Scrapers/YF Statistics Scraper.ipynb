{
 "cells": [
  {
   "cell_type": "code",
   "execution_count": 38,
   "id": "9e5984fe",
   "metadata": {},
   "outputs": [],
   "source": [
    "import requests\n",
    "from bs4 import BeautifulSoup\n",
    "import pandas as pd\n",
    "\n",
    "#Function that takes in the stock name as a string and returns all the key statistics from YahooFinance\n",
    "\n",
    "def stats_getter(ticker):\n",
    "    \n",
    "    url='https://finance.yahoo.com/quote/{}/key-statistics?p={}'.format(ticker,ticker)\n",
    "\n",
    "    headers = {'User-Agent' : 'Safari/19616.1.24.11.3'}\n",
    "    page=requests.get(url,headers=headers)\n",
    "    page_content=page.content\n",
    "    soup=BeautifulSoup(page_content,'html.parser')\n",
    "    tabl=soup.find_all('table',{'class': \"W(100%) Bdcl(c)\"})\n",
    "\n",
    "    temp_stats={}\n",
    "    for t in tabl:\n",
    "        rows = t.find_all('tr')\n",
    "        for row in rows:\n",
    "            temp_stats[row.get_text(separator = \"|\").split('|')[0]] = row.get_text(separator = '|').split('|')[-1]\n",
    "    return (temp_stats)"
   ]
  }
 ],
 "metadata": {
  "kernelspec": {
   "display_name": "Python 3 (ipykernel)",
   "language": "python",
   "name": "python3"
  },
  "language_info": {
   "codemirror_mode": {
    "name": "ipython",
    "version": 3
   },
   "file_extension": ".py",
   "mimetype": "text/x-python",
   "name": "python",
   "nbconvert_exporter": "python",
   "pygments_lexer": "ipython3",
   "version": "3.9.13"
  }
 },
 "nbformat": 4,
 "nbformat_minor": 5
}
