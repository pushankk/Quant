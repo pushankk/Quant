{
 "cells": [
  {
   "cell_type": "code",
   "execution_count": 2,
   "id": "4f45a4ff-9564-4048-8e67-205dcf4e3742",
   "metadata": {},
   "outputs": [],
   "source": [
    "from selenium import webdriver\n",
    "from selenium.webdriver.common.by import By\n",
    "from selenium.webdriver.support.ui import WebDriverWait\n",
    "from selenium.webdriver.support import expected_conditions as EC\n",
    "import pandas as pd\n",
    "import time\n",
    "from selenium.webdriver.support import expected_conditions as EC\n",
    "from selenium.webdriver.chrome.options import Options"
   ]
  },
  {
   "cell_type": "markdown",
   "id": "d1600cbd-1463-48b6-9889-4647cb766bcc",
   "metadata": {},
   "source": [
    "## YF Financial Scraper\n",
    "You can also use this funtion to scrape balance sheet and cashflow statement. Some paratmeters are wrapped under buttons which need to be clicked before scraping and depth is this amount of clicks to be done."
   ]
  },
  {
   "cell_type": "code",
   "execution_count": 8,
   "id": "db68fcd9-e7df-4e3a-a99d-5e5b48ec5853",
   "metadata": {},
   "outputs": [],
   "source": [
    "# Initializing selenium chromedrive module.\n",
    "path = \"chromedriver.exe\"\n",
    "service = webdriver.chrome.service.Service(path)\n",
    "service.start()\n",
    "options = Options()\n",
    "options.add_argument(\"--headless\") "
   ]
  },
  {
   "cell_type": "code",
   "execution_count": 11,
   "id": "d84c3317-566a-4b4a-9166-d3caf3cc3321",
   "metadata": {},
   "outputs": [],
   "source": [
    "def get_financial_statement(ticker,type_of_statement=\"income_statement\",depth=1):\n",
    "    \"\"\"\n",
    "    Parameters\n",
    "    ----------\n",
    "    ticker : str\n",
    "    type_of_statement : str\n",
    "        DESCRIPTION. either of income_statement, balance_sheet and cashflow_statement. The default is income_statement.\n",
    "    depth : int\n",
    "        DESCRIPTION. till what depth of the statement you need to go. if depth is 2, the code will iterate the button finding process twice\n",
    "\n",
    "    Returns\n",
    "    -------\n",
    "    df : dataframe\n",
    "\n",
    "    \"\"\"\n",
    "    if type_of_statement==\"income_statement\":\n",
    "        url = \"https://finance.yahoo.com/quote/{}/financials?p={}\".format(ticker,ticker)\n",
    "    elif type_of_statement==\"balance_sheet\":\n",
    "        url = \"https://finance.yahoo.com/quote/{}/balance-sheet?p={}\".format(ticker,ticker)\n",
    "    elif type_of_statement==\"cashflow_statement\":\n",
    "        url = \"https://finance.yahoo.com/quote/{}/cash-flow?p={}\".format(ticker,ticker)\n",
    "\n",
    "    driver = webdriver.Chrome(service=service, options = options)\n",
    "    driver.get(url)\n",
    "    driver.implicitly_wait(0.2)\n",
    "    \n",
    "    ### clicking dropdown buttons before scraping   \n",
    "    clicked_buttons = []\n",
    "    for i in range(depth):\n",
    "        buttons = driver.find_elements(By.XPATH,  '//section[@class=\"main svelte-e2c64s\"]//button')\n",
    "        buttons = [i for i in buttons if i not in clicked_buttons]\n",
    "        for button in buttons:\n",
    "            if button.accessible_name in [\"\",\"Follow\",\"Quarterly\",\"Annual\",\"prev\",\"next\"]:\n",
    "                pass\n",
    "            else:\n",
    "                #WebDriverWait(driver, 0.2).until(EC.element_to_be_clickable(button)).click()\n",
    "                driver.execute_script(\"arguments[0].click();\", button) #this way of clicking may be required for some of the wrapped buttons\n",
    "        clicked_buttons+=buttons\n",
    "    \n",
    "    table = driver.find_element(By.XPATH,  '//div[@class=\"tableContainer svelte-1pgoo1f\"]')\n",
    "    text_blob = table.text.split(\"\\n\")\n",
    "    income_st_dir = {}\n",
    "    last_key = None\n",
    "    for count, row in enumerate(text_blob):\n",
    "        if count == 0:\n",
    "            heading = row.split()\n",
    "            column_count = len(heading[1:])\n",
    "        else:\n",
    "            if count%(column_count+1) == 1:\n",
    "                income_st_dir[row] = []\n",
    "                last_key = row\n",
    "            else:\n",
    "                income_st_dir[last_key].append(row)        \n",
    "    df = pd.DataFrame(income_st_dir).T\n",
    "    df.columns = heading[1:]\n",
    "    \n",
    "    for col in df.columns:\n",
    "        df[col] = df[col].str.replace(r'[,\\|s-]', '', regex=True)\n",
    "        df[col] = pd.to_numeric(df[col], errors='coerce')\n",
    "    \n",
    "    driver.close()\n",
    "    return df"
   ]
  },
  {
   "cell_type": "markdown",
   "id": "78fd8098-b9d5-43ae-bfb0-6de5f6cda2f9",
   "metadata": {},
   "source": [
    "## Key Statistics Scraper"
   ]
  },
  {
   "cell_type": "code",
   "execution_count": 7,
   "id": "c32ebc2d-d76d-485b-9217-5446a2f042f1",
   "metadata": {},
   "outputs": [],
   "source": [
    "def get_key_stat(ticker):\n",
    "    #getting key statistics data from yahoo finance for the given ticker\n",
    "    url = 'https://finance.yahoo.com/quote/{}/key-statistics'.format(ticker)\n",
    "    \n",
    "    driver = webdriver.Chrome(service=service, options = options)\n",
    "    driver.get(url)\n",
    "    driver.implicitly_wait(0.2)\n",
    "    \n",
    "    table = driver.find_element(By.XPATH,  '//div[@class=\"table-container svelte-104jbnt\"]')\n",
    "    text_blob = table.text.split(\"\\n\")\n",
    "    financial_metrics = {}\n",
    "    header = text_blob[0].split()\n",
    "    \n",
    "    for item in text_blob[1:]:\n",
    "        parts = item.split()\n",
    "        key_end = len(parts) - len(header)\n",
    "        key = ' '.join(parts[:key_end])\n",
    "        values = parts[key_end:]\n",
    "        financial_metrics[key] = dict(zip(header, values))\n",
    "    \n",
    "    df = pd.DataFrame(financial_metrics).T\n",
    "    df = df.replace({'T': 'E+12', 'B': 'E+09', 'M': 'E+06', 'K': 'E+03'}, regex=True)\n",
    "    df = df.apply(pd.to_numeric, errors='coerce')\n",
    "\n",
    "    driver.close()\n",
    "    return df"
   ]
  }
 ],
 "metadata": {
  "kernelspec": {
   "display_name": "Python 3 (ipykernel)",
   "language": "python",
   "name": "python3"
  },
  "language_info": {
   "codemirror_mode": {
    "name": "ipython",
    "version": 3
   },
   "file_extension": ".py",
   "mimetype": "text/x-python",
   "name": "python",
   "nbconvert_exporter": "python",
   "pygments_lexer": "ipython3",
   "version": "3.11.7"
  }
 },
 "nbformat": 4,
 "nbformat_minor": 5
}
