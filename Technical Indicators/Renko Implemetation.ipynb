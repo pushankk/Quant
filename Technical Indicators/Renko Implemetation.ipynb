{
 "cells": [
  {
   "cell_type": "code",
   "execution_count": 7,
   "id": "8fcca46c",
   "metadata": {},
   "outputs": [
    {
     "name": "stdout",
     "output_type": "stream",
     "text": [
      "[*********************100%***********************]  1 of 1 completed\n",
      "[*********************100%***********************]  1 of 1 completed\n",
      "[*********************100%***********************]  1 of 1 completed\n",
      "[*********************100%***********************]  1 of 1 completed\n",
      "[*********************100%***********************]  1 of 1 completed\n",
      "[*********************100%***********************]  1 of 1 completed\n"
     ]
    }
   ],
   "source": [
    "from stocktrends import Renko\n",
    "import yfinance as yf\n",
    "\n",
    "tickers=['AMZN','GOOG','TSLA']\n",
    "ohlcv_data={}\n",
    "hour_data={}\n",
    "renko_data={}\n",
    "for ticker in tickers:\n",
    "    temp=yf.download(ticker,period='1mo',interval='5m')\n",
    "    temp.dropna(how='any',inplace=True)\n",
    "    ohlcv_data[ticker]=temp\n",
    "    temp=yf.download(ticker,period='1y',interval='1h')\n",
    "    temp.dropna(how='any',inplace=True)\n",
    "    hour_data[ticker]=temp\n",
    "\n",
    "def ATR(DF,n=14):\n",
    "    df=DF.copy()\n",
    "    df['H-L']=df['High']-df['Low']\n",
    "    df['H-PC']=df['High']-df['Adj Close'].shift(1)\n",
    "    df['L-PC']=df['Low']-df['Adj Close'].shift(1)\n",
    "    df['TR']=df[['H-L','H-PC','L-PC']].max(axis=1,skipna=False)\n",
    "    df['ATR']=df['TR'].ewm(com=n,min_periods=n).mean()\n",
    "    return df['ATR']"
   ]
  },
  {
   "cell_type": "code",
   "execution_count": 8,
   "id": "f3cef373",
   "metadata": {},
   "outputs": [],
   "source": [
    "def renko_DF(DF, hourly_df):\n",
    "    df = DF.copy()\n",
    "    df.drop('Close',axis=1,inplace=True)\n",
    "    df.reset_index(inplace=True)\n",
    "    df.columns = ['date','open','high','low','close','volume']\n",
    "    df2 = Renko(df)\n",
    "    df2.brick_size = 3*round(ATR(hourly_df,120).iloc[-1],0)\n",
    "    renko_df = df2.get_ohlc_data()\n",
    "    return renko_df"
   ]
  },
  {
   "cell_type": "code",
   "execution_count": 9,
   "id": "9e4cee36",
   "metadata": {},
   "outputs": [],
   "source": [
    "for ticker in ohlcv_data:\n",
    "    renko_data[ticker] = renko_DF(ohlcv_data[ticker],hour_data[ticker])"
   ]
  },
  {
   "cell_type": "code",
   "execution_count": 11,
   "id": "acc54298",
   "metadata": {},
   "outputs": [
    {
     "data": {
      "text/html": [
       "<div>\n",
       "<style scoped>\n",
       "    .dataframe tbody tr th:only-of-type {\n",
       "        vertical-align: middle;\n",
       "    }\n",
       "\n",
       "    .dataframe tbody tr th {\n",
       "        vertical-align: top;\n",
       "    }\n",
       "\n",
       "    .dataframe thead th {\n",
       "        text-align: right;\n",
       "    }\n",
       "</style>\n",
       "<table border=\"1\" class=\"dataframe\">\n",
       "  <thead>\n",
       "    <tr style=\"text-align: right;\">\n",
       "      <th></th>\n",
       "      <th>date</th>\n",
       "      <th>open</th>\n",
       "      <th>high</th>\n",
       "      <th>low</th>\n",
       "      <th>close</th>\n",
       "      <th>uptrend</th>\n",
       "    </tr>\n",
       "  </thead>\n",
       "  <tbody>\n",
       "    <tr>\n",
       "      <th>0</th>\n",
       "      <td>2023-08-07 09:30:00-04:00</td>\n",
       "      <td>135.0</td>\n",
       "      <td>138.0</td>\n",
       "      <td>135.0</td>\n",
       "      <td>138.0</td>\n",
       "      <td>True</td>\n",
       "    </tr>\n",
       "    <tr>\n",
       "      <th>1</th>\n",
       "      <td>2023-08-07 12:25:00-04:00</td>\n",
       "      <td>138.0</td>\n",
       "      <td>141.0</td>\n",
       "      <td>138.0</td>\n",
       "      <td>141.0</td>\n",
       "      <td>True</td>\n",
       "    </tr>\n",
       "    <tr>\n",
       "      <th>2</th>\n",
       "      <td>2023-08-17 09:50:00-04:00</td>\n",
       "      <td>138.0</td>\n",
       "      <td>138.0</td>\n",
       "      <td>135.0</td>\n",
       "      <td>135.0</td>\n",
       "      <td>False</td>\n",
       "    </tr>\n",
       "    <tr>\n",
       "      <th>3</th>\n",
       "      <td>2023-08-18 09:30:00-04:00</td>\n",
       "      <td>135.0</td>\n",
       "      <td>135.0</td>\n",
       "      <td>132.0</td>\n",
       "      <td>132.0</td>\n",
       "      <td>False</td>\n",
       "    </tr>\n",
       "    <tr>\n",
       "      <th>4</th>\n",
       "      <td>2023-08-31 10:00:00-04:00</td>\n",
       "      <td>135.0</td>\n",
       "      <td>138.0</td>\n",
       "      <td>135.0</td>\n",
       "      <td>138.0</td>\n",
       "      <td>True</td>\n",
       "    </tr>\n",
       "  </tbody>\n",
       "</table>\n",
       "</div>"
      ],
      "text/plain": [
       "                       date   open   high    low  close  uptrend\n",
       "0 2023-08-07 09:30:00-04:00  135.0  138.0  135.0  138.0     True\n",
       "1 2023-08-07 12:25:00-04:00  138.0  141.0  138.0  141.0     True\n",
       "2 2023-08-17 09:50:00-04:00  138.0  138.0  135.0  135.0    False\n",
       "3 2023-08-18 09:30:00-04:00  135.0  135.0  132.0  132.0    False\n",
       "4 2023-08-31 10:00:00-04:00  135.0  138.0  135.0  138.0     True"
      ]
     },
     "execution_count": 11,
     "metadata": {},
     "output_type": "execute_result"
    }
   ],
   "source": [
    "renko_data['AMZN']"
   ]
  },
  {
   "cell_type": "code",
   "execution_count": null,
   "id": "a8e2f6b2",
   "metadata": {},
   "outputs": [],
   "source": []
  }
 ],
 "metadata": {
  "kernelspec": {
   "display_name": "Python 3 (ipykernel)",
   "language": "python",
   "name": "python3"
  },
  "language_info": {
   "codemirror_mode": {
    "name": "ipython",
    "version": 3
   },
   "file_extension": ".py",
   "mimetype": "text/x-python",
   "name": "python",
   "nbconvert_exporter": "python",
   "pygments_lexer": "ipython3",
   "version": "3.9.13"
  }
 },
 "nbformat": 4,
 "nbformat_minor": 5
}
